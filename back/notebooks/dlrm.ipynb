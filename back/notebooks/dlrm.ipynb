{
  "cells": [
    {
      "cell_type": "code",
      "execution_count": 1,
      "metadata": {},
      "outputs": [],
      "source": [
        "import os,sys\n",
        "sys.path.append(os.path.abspath(\"..\"))"
      ]
    },
    {
      "cell_type": "code",
      "execution_count": 2,
      "metadata": {},
      "outputs": [],
      "source": [
        "from core.modeling.base import BaseModel,Config\n",
        "from core.modeling.dlrm import DLRMParams\n",
        "import torch\n",
        "import numpy as np\n",
        "import pandas as pd\n",
        "import torch.utils.data\n",
        "import torch.nn.functional as F\n",
        "import matplotlib.pyplot as plt\n",
        "from sklearn.metrics import root_mean_squared_error\n",
        "from core.data import MovieLens\n",
        "from core.utils import seed_all \n",
        "import seaborn as sns\n",
        "import pathlib,json\n",
        "sns.set_theme(style=\"darkgrid\")\n",
        "device = \"cuda\" if torch.cuda.is_available() else \"cpu\"\n",
        "device = \"cpu\"\n",
        "seed = 0\n",
        "seed_all(seed)\n",
        "new_model = False"
      ]
    },
    {
      "cell_type": "code",
      "execution_count": 3,
      "metadata": {},
      "outputs": [
        {
          "name": "stdout",
          "output_type": "stream",
          "text": [
            "MovieLens has been initialized\n"
          ]
        }
      ],
      "source": [
        "filename = \"dlrm.pt\"\n",
        "movie_lens = MovieLens.get_instance()"
      ]
    },
    {
      "cell_type": "code",
      "execution_count": 4,
      "metadata": {},
      "outputs": [],
      "source": [
        "num_cols = movie_lens.user_num_cols + movie_lens.movie_num_cols\n",
        "cat_cols = movie_lens.user_cat_cols + movie_lens.movie_cat_cols\n",
        "users_nunique = movie_lens.users[movie_lens.user_cat_cols].nunique().tolist()\n",
        "movies_nunique = movie_lens.movies[movie_lens.movie_cat_cols].nunique().tolist()\n",
        "\n",
        "# users and movies ids start from 1 not 0\n",
        "movies_nunique[movie_lens.movie_cat_cols.index(\"movie\")] += 1\n",
        "users_nunique[movie_lens.user_cat_cols.index(\"user\")] += 1\n",
        "\n",
        "nunique = users_nunique + movies_nunique"
      ]
    },
    {
      "cell_type": "code",
      "execution_count": 5,
      "metadata": {},
      "outputs": [],
      "source": [
        "ratings = movie_lens.ratings\n",
        "ratings[cat_cols] = ratings[cat_cols].astype(np.int32)\n",
        "ratings[num_cols] = ratings[num_cols].astype(np.float32)\n",
        "ratings[\"rating\"] = ratings[\"rating\"].astype(np.float32)"
      ]
    },
    {
      "cell_type": "code",
      "execution_count": 6,
      "metadata": {},
      "outputs": [
        {
          "data": {
            "text/plain": [
              "(torch.float32, torch.int32, torch.float32)"
            ]
          },
          "execution_count": 6,
          "metadata": {},
          "output_type": "execute_result"
        }
      ],
      "source": [
        "class DS(torch.utils.data.Dataset):\n",
        "    def __init__(\n",
        "        self,\n",
        "        num: pd.DataFrame,\n",
        "        cat: pd.DataFrame,\n",
        "        y: pd.DataFrame,\n",
        "    ) -> None:\n",
        "        super().__init__()\n",
        "        self.num = num\n",
        "        self.cat = cat\n",
        "        self.y = y\n",
        "\n",
        "    def __len__(self):\n",
        "        l = self.num.shape[0]\n",
        "        return l\n",
        "\n",
        "    def __getitem__(self, index):\n",
        "        num = self.num[index]\n",
        "        cat = self.cat[index]\n",
        "        y = self.y[index]\n",
        "        # X,y\n",
        "        return dict(num=num, cat=cat,y=y)\n",
        "\n",
        "batch_size = 64*20\n",
        "all_ds = DS(\n",
        "    ratings[num_cols].values,\n",
        "    ratings[cat_cols].values,\n",
        "    ratings.rating.values,\n",
        ")\n",
        "train_ds, valid_ds, test_ds = torch.utils.data.random_split(all_ds,[.8, .1, .1])\n",
        "train_dl = torch.utils.data.DataLoader(train_ds, batch_size=batch_size,shuffle=True)\n",
        "valid_dl = torch.utils.data.DataLoader(valid_ds, batch_size=batch_size,shuffle=True)\n",
        "_d=next(iter(train_dl))\n",
        "_d[\"num\"].dtype, _d[\"cat\"].dtype, _d[\"y\"].dtype"
      ]
    },
    {
      "cell_type": "code",
      "execution_count": 7,
      "metadata": {},
      "outputs": [
        {
          "data": {
            "text/plain": [
              "4.712646484375"
            ]
          },
          "execution_count": 7,
          "metadata": {},
          "output_type": "execute_result"
        }
      ],
      "source": [
        "if not new_model and pathlib.Path(filename).exists():\n",
        "    model,optimizer,training_result = BaseModel.load(\n",
        "        filename,\n",
        "    )\n",
        "else:\n",
        "    model = BaseModel.init_model(\n",
        "        Config(\n",
        "            model_name=\"DLRM\",\n",
        "            lr=.001,\n",
        "            n_users=movie_lens.n_users,\n",
        "            n_movies=movie_lens.n_movies,\n",
        "            params=DLRMParams(\n",
        "                bot_layers=[len(num_cols), 32*2],\n",
        "                embds=[(n, 32*2) for n in nunique],\n",
        "                top_layers=[32*2],\n",
        "                bot_p=.2,\n",
        "                top_p=.2,\n",
        "            ),\n",
        "        )\n",
        "    ).to(device)\n",
        "    optimizer = torch.optim.AdamW(model.parameters(), model.config.lr, weight_decay=0.01)\n",
        "    training_result = None\n",
        "# model\n",
        "model.numel()*4/(1024**2)\n",
        "# params.to_dict()"
      ]
    },
    {
      "cell_type": "code",
      "execution_count": 8,
      "metadata": {},
      "outputs": [
        {
          "data": {
            "text/plain": [
              "array([6, 4, 5, 3, 2, 1, 0])"
            ]
          },
          "execution_count": 8,
          "metadata": {},
          "output_type": "execute_result"
        }
      ],
      "source": [
        "movie_lens.ratings.movie_year_bin.unique()"
      ]
    },
    {
      "cell_type": "code",
      "execution_count": 9,
      "metadata": {},
      "outputs": [
        {
          "data": {
            "text/plain": [
              "'movie_year_bin'"
            ]
          },
          "execution_count": 9,
          "metadata": {},
          "output_type": "execute_result"
        }
      ],
      "source": [
        "cat_cols[21]"
      ]
    },
    {
      "cell_type": "code",
      "execution_count": 11,
      "metadata": {},
      "outputs": [
        {
          "name": "stderr",
          "output_type": "stream",
          "text": [
            "Epoch:  1, loss : 7.5257, val_loss: 7.7288: 100%|██████████| 522/522 [00:22<00:00, 23.14it/s]\n"
          ]
        }
      ],
      "source": [
        "epochs = 1\n",
        "patience = 5\n",
        "training_result = model.fit(\n",
        "    optimizer,\n",
        "    train_dl,   \n",
        "    loss_fn=F.mse_loss,\n",
        "    metric=root_mean_squared_error,\n",
        "    epochs=epochs,\n",
        "    val_ld=valid_dl,\n",
        "    patience=patience,\n",
        "    last_training_result=training_result\n",
        ")"
      ]
    },
    {
      "cell_type": "code",
      "execution_count": 12,
      "metadata": {},
      "outputs": [
        {
          "name": "stdout",
          "output_type": "stream",
          "text": [
            "Model saved.\n"
          ]
        },
        {
          "data": {
            "image/png": "[encoded data removed]",
            "text/plain": [
              "<Figure size 1000x400 with 2 Axes>"
            ]
          },
          "metadata": {},
          "output_type": "display_data"
        }
      ],
      "source": [
        "model.save(\n",
        "    filename,\n",
        "    optimizer=optimizer,\n",
        "    last_training_result=training_result,\n",
        ")\n",
        "training_result.plot(score_name=\"RMSE\")"
      ]
    },
    {
      "cell_type": "code",
      "execution_count": 13,
      "metadata": {},
      "outputs": [
        {
          "name": "stdout",
          "output_type": "stream",
          "text": [
            "True: mean 17.8, std 5.3\n",
            "Pred: mean 5.0, std 0.0\n",
            "RSME: 13.887410165704466\n"
          ]
        },
        {
          "data": {
            "text/html": [
              "<div>\n",
              "<style scoped>\n",
              "    .dataframe tbody tr th:only-of-type {\n",
              "        vertical-align: middle;\n",
              "    }\n",
              "\n",
              "    .dataframe tbody tr th {\n",
              "        vertical-align: top;\n",
              "    }\n",
              "\n",
              "    .dataframe thead th {\n",
              "        text-align: right;\n",
              "    }\n",
              "</style>\n",
              "<table border=\"1\" class=\"dataframe\">\n",
              "  <thead>\n",
              "    <tr style=\"text-align: right;\">\n",
              "      <th></th>\n",
              "      <th>user</th>\n",
              "      <th>movie</th>\n",
              "      <th>rating</th>\n",
              "      <th>pred</th>\n",
              "      <th>error</th>\n",
              "    </tr>\n",
              "  </thead>\n",
              "  <tbody>\n",
              "    <tr>\n",
              "      <th>0</th>\n",
              "      <td>1806</td>\n",
              "      <td>10204</td>\n",
              "      <td>17.5</td>\n",
              "      <td>5.0</td>\n",
              "      <td>12.5</td>\n",
              "    </tr>\n",
              "    <tr>\n",
              "      <th>1</th>\n",
              "      <td>4902</td>\n",
              "      <td>1826</td>\n",
              "      <td>20.0</td>\n",
              "      <td>5.0</td>\n",
              "      <td>15.0</td>\n",
              "    </tr>\n",
              "    <tr>\n",
              "      <th>2</th>\n",
              "      <td>2279</td>\n",
              "      <td>157</td>\n",
              "      <td>20.0</td>\n",
              "      <td>5.0</td>\n",
              "      <td>15.0</td>\n",
              "    </tr>\n",
              "    <tr>\n",
              "      <th>3</th>\n",
              "      <td>4391</td>\n",
              "      <td>9246</td>\n",
              "      <td>22.5</td>\n",
              "      <td>5.0</td>\n",
              "      <td>17.5</td>\n",
              "    </tr>\n",
              "    <tr>\n",
              "      <th>4</th>\n",
              "      <td>5940</td>\n",
              "      <td>7457</td>\n",
              "      <td>17.5</td>\n",
              "      <td>5.0</td>\n",
              "      <td>12.5</td>\n",
              "    </tr>\n",
              "  </tbody>\n",
              "</table>\n",
              "</div>"
            ],
            "text/plain": [
              "   user  movie  rating  pred  error\n",
              "0  1806  10204    17.5   5.0   12.5\n",
              "1  4902   1826    20.0   5.0   15.0\n",
              "2  2279    157    20.0   5.0   15.0\n",
              "3  4391   9246    22.5   5.0   17.5\n",
              "4  5940   7457    17.5   5.0   12.5"
            ]
          },
          "execution_count": 13,
          "metadata": {},
          "output_type": "execute_result"
        }
      ],
      "source": [
        "test = test_ds[:None]\n",
        "userIds = test[\"cat\"][:, cat_cols.index(\"user\")]\n",
        "movieIds = test[\"cat\"][:, cat_cols.index(\"movie\")]\n",
        "pred = model.recommend_for_users(\n",
        "    users=userIds,\n",
        "    movies=movieIds,\n",
        "    **test,\n",
        "    sort=False,\n",
        "    wrap=False,\n",
        ")\n",
        "test = pd.DataFrame(dict(pred=pred,rating=test[\"y\"],user=userIds,movie=movieIds))\n",
        "test[\"rating\"] =test[\"rating\"] * 5 \n",
        "test[\"error\"] = test.rating - test.pred\n",
        "\n",
        "print(f\"True: mean {test.rating.mean():.3}, std {test.rating.std():.3}\")\n",
        "print(f\"Pred: mean {test.pred.mean():.3}, std {test.pred.std():.3}\")\n",
        "print(f\"RSME: {root_mean_squared_error(test.rating,test.pred)}\")\n",
        "test[[\"user\", \"movie\", \"rating\", \"pred\", \"error\"]].head()"
      ]
    },
    {
      "cell_type": "code",
      "execution_count": 14,
      "metadata": {},
      "outputs": [
        {
          "data": {
            "text/plain": [
              "array([17.5, 20. , 22.5, 15. , 25. , 10. , 12.5,  7.5,  2.5,  5. ],\n",
              "      dtype=float32)"
            ]
          },
          "execution_count": 14,
          "metadata": {},
          "output_type": "execute_result"
        }
      ],
      "source": [
        "test.rating.unique()"
      ]
    },
    {
      "cell_type": "code",
      "execution_count": 15,
      "metadata": {},
      "outputs": [
        {
          "data": {
            "text/plain": [
              "<matplotlib.legend.Legend at 0x1c6125d1d60>"
            ]
          },
          "execution_count": 15,
          "metadata": {},
          "output_type": "execute_result"
        },
        {
          "data": {
            "image/png": "[encoded data removed]",
            "text/plain": [
              "<Figure size 1600x400 with 2 Axes>"
            ]
          },
          "metadata": {},
          "output_type": "display_data"
        }
      ],
      "source": [
        "_, (ax1, ax2) = plt.subplots(1, 2, figsize=(16, 4))\n",
        "sns.histplot(test.error, fill=True, label=\"error\", ax=ax2, kde=True)\n",
        "\n",
        "sns.histplot(test.rating, fill=True, label=\"true\", ax=ax1, bins=20, kde=False)\n",
        "sns.histplot(test.pred, fill=True, label=\"pred\", ax=ax1, bins=20, kde=False)\n",
        "ax1.legend()\n",
        "ax2.legend()"
      ]
    },
    {
      "cell_type": "code",
      "execution_count": 16,
      "metadata": {},
      "outputs": [
        {
          "data": {
            "text/plain": [
              "[Recommendation(userId=3, movieId=55, predicted_rating=5.0),\n",
              " Recommendation(userId=3, movieId=300, predicted_rating=5.0)]"
            ]
          },
          "execution_count": 16,
          "metadata": {},
          "output_type": "execute_result"
        }
      ],
      "source": [
        "model.recommend_for_users(**model.prepare(\n",
        "    3,\n",
        "    movieIds=[55, 300],\n",
        "), sort=True)"
      ]
    }
  ],
  "metadata": {
    "kernelspec": {
      "display_name": "Python 3",
      "language": "python",
      "name": "python3"
    },
    "language_info": {
      "codemirror_mode": {
        "name": "ipython",
        "version": 3
      },
      "file_extension": ".py",
      "mimetype": "text/x-python",
      "name": "python",
      "nbconvert_exporter": "python",
      "pygments_lexer": "ipython3",
      "version": "3.12.1"
    }
  },
  "nbformat": 4,
  "nbformat_minor": 2
}
