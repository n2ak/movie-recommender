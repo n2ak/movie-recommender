{
  "cells": [
    {
      "cell_type": "code",
      "execution_count": 16,
      "metadata": {},
      "outputs": [],
      "source": [
        "import os,sys\n",
        "sys.path.append(os.path.abspath(\"..\"))"
      ]
    },
    {
      "cell_type": "code",
      "execution_count": 17,
      "metadata": {},
      "outputs": [],
      "source": [
        "from core.modeling.base import BaseModel,Config\n",
        "from core.modeling.dlrm import DLRMParams,DLRMState\n",
        "import torch\n",
        "import numpy as np\n",
        "import pandas as pd\n",
        "import torch.utils.data\n",
        "import torch.nn.functional as F\n",
        "import matplotlib.pyplot as plt\n",
        "from sklearn.metrics import root_mean_squared_error\n",
        "from core.data import load_ds,preprocess,normalize\n",
        "from core.utils import seed_all, read_csv, to_csv\n",
        "import seaborn as sns\n",
        "import pathlib,json\n",
        "sns.set_theme(style=\"darkgrid\")\n",
        "device = \"cuda\" if torch.cuda.is_available() else \"cpu\"\n",
        "seed = 0\n",
        "seed_all(seed)\n",
        "new_model = False"
      ]
    },
    {
      "cell_type": "code",
      "execution_count": 18,
      "metadata": {},
      "outputs": [],
      "source": [
        "paths = [\"movies\", \"users\", \"ratings\", \"cols\"]\n",
        "def topath(p):\n",
        "    return f\"dlrm_ml_{p}.csv\"\n",
        "filename = \"dlrm.pt\""
      ]
    },
    {
      "cell_type": "code",
      "execution_count": 19,
      "metadata": {},
      "outputs": [],
      "source": [
        "# if not new_model and pathlib.Path(topath(paths[0])).exists():\n",
        "#     movies, users, ratings, cols = [read_csv(topath(p)) for p in paths]\n",
        "#     movie_cat_cols, movie_num_cols, user_cat_cols, user_num_cols = [json.loads(i) for i in cols[\n",
        "#         [\"movie_cat_cols\", \"movie_num_cols\", \"user_cat_cols\", \"user_num_cols\"]\n",
        "#     ].iloc[0].values.tolist()]\n",
        "#     print(\"Loaded\")\n",
        "# else:\n",
        "movies, ratings = load_ds(2_000_000, 2_000_000)\n",
        "movies, users, movie_cols, user_cols = preprocess(movies, ratings)\n",
        "(movie_cat_cols, movie_num_cols), (user_cat_cols,\n",
        "                                    user_num_cols) = movie_cols, user_cols\n",
        "cols = pd.DataFrame(dict(\n",
        "    movie_cat_cols=json.dumps(movie_cat_cols),\n",
        "    movie_num_cols=json.dumps(movie_num_cols),\n",
        "    user_cat_cols=json.dumps(user_cat_cols),\n",
        "    user_num_cols=json.dumps(user_num_cols),\n",
        "),index=[0])\n",
        "for df, p in zip([movies, users, ratings, cols], paths):\n",
        "    to_csv(df,topath(p), index=False)\n",
        "\n",
        "\n",
        "n_users = users.user.nunique()\n",
        "n_movies = movies.movie.nunique()\n",
        "extra = DLRMState(\n",
        "    n_users=n_users,\n",
        "    n_movies=n_movies,\n",
        "    user_cat_cols=user_cat_cols,\n",
        "    movie_cat_cols=movie_cat_cols,\n",
        "    user_num_cols=user_num_cols,\n",
        "    movie_num_cols=movie_num_cols,\n",
        "    movies_path=topath(\"movies\"),\n",
        "    users_path=topath(\"users\"),\n",
        ")\n",
        "# params.to_dict()"
      ]
    },
    {
      "cell_type": "code",
      "execution_count": 20,
      "metadata": {},
      "outputs": [],
      "source": [
        "ratings.rename(columns={\n",
        "    \"movie\":\"__movieId\",\n",
        "    \"user\":\"__userId\",\n",
        "},inplace=True)\n",
        "# ratings\n",
        "cat_cols = user_cat_cols + movie_cat_cols\n",
        "users_nunique = users[user_cat_cols].nunique().tolist()\n",
        "movies_nunique = movies[movie_cat_cols].nunique().tolist()\n",
        "# movies_nunique[movie_cat_cols.index(\"movie\")] = ratings.__movieId.nunique()\n",
        "\n",
        "nunique = users_nunique + movies_nunique\n",
        "num_cols = user_num_cols + movie_num_cols"
      ]
    },
    {
      "cell_type": "code",
      "execution_count": 21,
      "metadata": {},
      "outputs": [
        {
          "data": {
            "text/html": [
              "<div>\n",
              "<style scoped>\n",
              "    .dataframe tbody tr th:only-of-type {\n",
              "        vertical-align: middle;\n",
              "    }\n",
              "\n",
              "    .dataframe tbody tr th {\n",
              "        vertical-align: top;\n",
              "    }\n",
              "\n",
              "    .dataframe thead th {\n",
              "        text-align: right;\n",
              "    }\n",
              "</style>\n",
              "<table border=\"1\" class=\"dataframe\">\n",
              "  <thead>\n",
              "    <tr style=\"text-align: right;\">\n",
              "      <th></th>\n",
              "      <th>rating</th>\n",
              "      <th>movie</th>\n",
              "      <th>movie_avg_rating</th>\n",
              "      <th>Sci-Fi</th>\n",
              "      <th>Mystery</th>\n",
              "      <th>Film-Noir</th>\n",
              "      <th>Documentary</th>\n",
              "      <th>IMAX</th>\n",
              "      <th>Drama</th>\n",
              "      <th>War</th>\n",
              "      <th>...</th>\n",
              "      <th>Thriller_user_rating</th>\n",
              "      <th>Romance_user_rating</th>\n",
              "      <th>Western_user_rating</th>\n",
              "      <th>Crime_user_rating</th>\n",
              "      <th>Action_user_rating</th>\n",
              "      <th>Fantasy_user_rating</th>\n",
              "      <th>Horror_user_rating</th>\n",
              "      <th>Children_user_rating</th>\n",
              "      <th>Adventure_user_rating</th>\n",
              "      <th>Animation_user_rating</th>\n",
              "    </tr>\n",
              "  </thead>\n",
              "  <tbody>\n",
              "    <tr>\n",
              "      <th>0</th>\n",
              "      <td>0.8</td>\n",
              "      <td>16</td>\n",
              "      <td>0.777865</td>\n",
              "      <td>False</td>\n",
              "      <td>False</td>\n",
              "      <td>False</td>\n",
              "      <td>False</td>\n",
              "      <td>False</td>\n",
              "      <td>True</td>\n",
              "      <td>False</td>\n",
              "      <td>...</td>\n",
              "      <td>0.7</td>\n",
              "      <td>0.65</td>\n",
              "      <td>0.7</td>\n",
              "      <td>0.775</td>\n",
              "      <td>0.821053</td>\n",
              "      <td>0.5</td>\n",
              "      <td>0.733333</td>\n",
              "      <td>0.7</td>\n",
              "      <td>0.694118</td>\n",
              "      <td>0.0</td>\n",
              "    </tr>\n",
              "    <tr>\n",
              "      <th>1</th>\n",
              "      <td>0.2</td>\n",
              "      <td>24</td>\n",
              "      <td>0.742939</td>\n",
              "      <td>False</td>\n",
              "      <td>False</td>\n",
              "      <td>False</td>\n",
              "      <td>False</td>\n",
              "      <td>False</td>\n",
              "      <td>True</td>\n",
              "      <td>False</td>\n",
              "      <td>...</td>\n",
              "      <td>0.7</td>\n",
              "      <td>0.65</td>\n",
              "      <td>0.7</td>\n",
              "      <td>0.775</td>\n",
              "      <td>0.821053</td>\n",
              "      <td>0.5</td>\n",
              "      <td>0.733333</td>\n",
              "      <td>0.7</td>\n",
              "      <td>0.694118</td>\n",
              "      <td>0.0</td>\n",
              "    </tr>\n",
              "    <tr>\n",
              "      <th>2</th>\n",
              "      <td>0.4</td>\n",
              "      <td>28</td>\n",
              "      <td>0.798697</td>\n",
              "      <td>True</td>\n",
              "      <td>True</td>\n",
              "      <td>False</td>\n",
              "      <td>False</td>\n",
              "      <td>False</td>\n",
              "      <td>True</td>\n",
              "      <td>False</td>\n",
              "      <td>...</td>\n",
              "      <td>0.7</td>\n",
              "      <td>0.65</td>\n",
              "      <td>0.7</td>\n",
              "      <td>0.775</td>\n",
              "      <td>0.821053</td>\n",
              "      <td>0.5</td>\n",
              "      <td>0.733333</td>\n",
              "      <td>0.7</td>\n",
              "      <td>0.694118</td>\n",
              "      <td>0.0</td>\n",
              "    </tr>\n",
              "    <tr>\n",
              "      <th>3</th>\n",
              "      <td>1.0</td>\n",
              "      <td>29</td>\n",
              "      <td>0.756579</td>\n",
              "      <td>False</td>\n",
              "      <td>False</td>\n",
              "      <td>False</td>\n",
              "      <td>False</td>\n",
              "      <td>False</td>\n",
              "      <td>True</td>\n",
              "      <td>False</td>\n",
              "      <td>...</td>\n",
              "      <td>0.7</td>\n",
              "      <td>0.65</td>\n",
              "      <td>0.7</td>\n",
              "      <td>0.775</td>\n",
              "      <td>0.821053</td>\n",
              "      <td>0.5</td>\n",
              "      <td>0.733333</td>\n",
              "      <td>0.7</td>\n",
              "      <td>0.694118</td>\n",
              "      <td>0.0</td>\n",
              "    </tr>\n",
              "    <tr>\n",
              "      <th>4</th>\n",
              "      <td>1.0</td>\n",
              "      <td>31</td>\n",
              "      <td>0.785049</td>\n",
              "      <td>True</td>\n",
              "      <td>True</td>\n",
              "      <td>False</td>\n",
              "      <td>False</td>\n",
              "      <td>False</td>\n",
              "      <td>False</td>\n",
              "      <td>False</td>\n",
              "      <td>...</td>\n",
              "      <td>0.7</td>\n",
              "      <td>0.65</td>\n",
              "      <td>0.7</td>\n",
              "      <td>0.775</td>\n",
              "      <td>0.821053</td>\n",
              "      <td>0.5</td>\n",
              "      <td>0.733333</td>\n",
              "      <td>0.7</td>\n",
              "      <td>0.694118</td>\n",
              "      <td>0.0</td>\n",
              "    </tr>\n",
              "  </tbody>\n",
              "</table>\n",
              "<p>5 rows × 44 columns</p>\n",
              "</div>"
            ],
            "text/plain": [
              "   rating  movie  movie_avg_rating  Sci-Fi  Mystery  Film-Noir  Documentary  \\\n",
              "0     0.8     16          0.777865   False    False      False        False   \n",
              "1     0.2     24          0.742939   False    False      False        False   \n",
              "2     0.4     28          0.798697    True     True      False        False   \n",
              "3     1.0     29          0.756579   False    False      False        False   \n",
              "4     1.0     31          0.785049    True     True      False        False   \n",
              "\n",
              "    IMAX  Drama    War  ...  Thriller_user_rating  Romance_user_rating  \\\n",
              "0  False   True  False  ...                   0.7                 0.65   \n",
              "1  False   True  False  ...                   0.7                 0.65   \n",
              "2  False   True  False  ...                   0.7                 0.65   \n",
              "3  False   True  False  ...                   0.7                 0.65   \n",
              "4  False  False  False  ...                   0.7                 0.65   \n",
              "\n",
              "   Western_user_rating  Crime_user_rating  Action_user_rating  \\\n",
              "0                  0.7              0.775            0.821053   \n",
              "1                  0.7              0.775            0.821053   \n",
              "2                  0.7              0.775            0.821053   \n",
              "3                  0.7              0.775            0.821053   \n",
              "4                  0.7              0.775            0.821053   \n",
              "\n",
              "   Fantasy_user_rating  Horror_user_rating  Children_user_rating  \\\n",
              "0                  0.5            0.733333                   0.7   \n",
              "1                  0.5            0.733333                   0.7   \n",
              "2                  0.5            0.733333                   0.7   \n",
              "3                  0.5            0.733333                   0.7   \n",
              "4                  0.5            0.733333                   0.7   \n",
              "\n",
              "   Adventure_user_rating  Animation_user_rating  \n",
              "0               0.694118                    0.0  \n",
              "1               0.694118                    0.0  \n",
              "2               0.694118                    0.0  \n",
              "3               0.694118                    0.0  \n",
              "4               0.694118                    0.0  \n",
              "\n",
              "[5 rows x 44 columns]"
            ]
          },
          "execution_count": 21,
          "metadata": {},
          "output_type": "execute_result"
        }
      ],
      "source": [
        "ds = ratings.merge(movies, on=\"__movieId\",).merge(users, how=\"left\", on=\"__userId\")\n",
        "ds = normalize(ds, num_cols + [\"rating\"])\n",
        "ds.drop(columns=[\"__movieId\", \"__userId\"],inplace=True)\n",
        "ds.head()\n",
        "# nunique = ds.nunique()[user_cat_cols + movie_cat_cols].values"
      ]
    },
    {
      "cell_type": "code",
      "execution_count": 22,
      "metadata": {},
      "outputs": [],
      "source": [
        "ds[cat_cols] = ds[cat_cols].astype(np.int32)\n",
        "ds[num_cols] = ds[num_cols].astype(np.float32)\n",
        "ds[\"rating\"] = ds[\"rating\"].astype(np.float32)"
      ]
    },
    {
      "cell_type": "code",
      "execution_count": 23,
      "metadata": {},
      "outputs": [
        {
          "data": {
            "text/plain": [
              "(torch.float32, torch.int32, torch.float32)"
            ]
          },
          "execution_count": 23,
          "metadata": {},
          "output_type": "execute_result"
        }
      ],
      "source": [
        "class DS(torch.utils.data.Dataset):\n",
        "    def __init__(\n",
        "        self,\n",
        "        num: pd.DataFrame,\n",
        "        cat: pd.DataFrame,\n",
        "        y: pd.DataFrame,\n",
        "    ) -> None:\n",
        "        super().__init__()\n",
        "        self.num = num\n",
        "        self.cat = cat\n",
        "        self.y = y\n",
        "\n",
        "    def __len__(self):\n",
        "        l = self.num.shape[0]\n",
        "        return l\n",
        "\n",
        "    def __getitem__(self, index):\n",
        "        num = self.num[index]\n",
        "        cat = self.cat[index]\n",
        "        y = self.y[index]\n",
        "        # X,y\n",
        "        return dict(num=num, cat=cat,y=y)\n",
        "\n",
        "batch_size = 64*20\n",
        "all_ds = DS(\n",
        "    ds[num_cols].values,\n",
        "    ds[cat_cols].values,\n",
        "    ds.rating.values,\n",
        ")\n",
        "train_ds, valid_ds, test_ds = torch.utils.data.random_split(all_ds,[.8, .1, .1])\n",
        "train_dl = torch.utils.data.DataLoader(train_ds, batch_size=batch_size,shuffle=True)\n",
        "valid_dl = torch.utils.data.DataLoader(valid_ds, batch_size=batch_size,shuffle=True)\n",
        "_d=next(iter(train_dl))\n",
        "_d[\"num\"].dtype, _d[\"cat\"].dtype, _d[\"y\"].dtype"
      ]
    },
    {
      "cell_type": "code",
      "execution_count": 24,
      "metadata": {},
      "outputs": [
        {
          "data": {
            "text/plain": [
              "24.877197265625"
            ]
          },
          "execution_count": 24,
          "metadata": {},
          "output_type": "execute_result"
        }
      ],
      "source": [
        "if not new_model and pathlib.Path(filename).exists():\n",
        "    model,optimizer,training_result = BaseModel.load(\n",
        "        filename,\n",
        "    )\n",
        "else:\n",
        "    model = BaseModel.init_model(\n",
        "        Config(\n",
        "            model_name=\"DLRM\",\n",
        "            lr=.001,\n",
        "            params=DLRMParams(\n",
        "                bot_layers=[len(num_cols), 32*2],\n",
        "                embds=[(n, 32*2) for n in nunique],\n",
        "                top_layers=[32*2],\n",
        "                bot_p=.2,\n",
        "                top_p=.2,\n",
        "            ),\n",
        "            extra=extra.to_dict(),\n",
        "        )\n",
        "    ).to(device)\n",
        "    optimizer = torch.optim.AdamW(model.parameters(), model.config.lr, weight_decay=0.01)\n",
        "    training_result = None\n",
        "# model\n",
        "model.numel()*4/(1024**2)\n",
        "# params.to_dict()"
      ]
    },
    {
      "cell_type": "code",
      "execution_count": 25,
      "metadata": {},
      "outputs": [
        {
          "name": "stderr",
          "output_type": "stream",
          "text": [
            "Epoch:  1, loss : 0.0333, val_loss: 0.0305: 100%|██████████| 1250/1250 [00:41<00:00, 29.84it/s]\n"
          ]
        }
      ],
      "source": [
        "epochs = 1\n",
        "patience = 5\n",
        "training_result = model.fit(\n",
        "    optimizer,\n",
        "    train_dl,   \n",
        "    loss_fn=F.mse_loss,\n",
        "    metric=root_mean_squared_error,\n",
        "    epochs=epochs,\n",
        "    val_ld=valid_dl,\n",
        "    patience=patience,\n",
        "    last_training_result=training_result\n",
        ")"
      ]
    },
    {
      "cell_type": "code",
      "execution_count": 26,
      "metadata": {},
      "outputs": [
        {
          "name": "stdout",
          "output_type": "stream",
          "text": [
            "Model saved.\n"
          ]
        },
        {
          "data": {
            "image/png": "[encoded data removed]",
            "text/plain": [
              "<Figure size 1000x400 with 2 Axes>"
            ]
          },
          "metadata": {},
          "output_type": "display_data"
        }
      ],
      "source": [
        "model.save(\n",
        "    filename,\n",
        "    optimizer=optimizer,\n",
        "    last_training_result=training_result,\n",
        "    extra=extra.to_dict(),\n",
        ")\n",
        "training_result.plot(score_name=\"RMSE\")"
      ]
    },
    {
      "cell_type": "code",
      "execution_count": 27,
      "metadata": {},
      "outputs": [
        {
          "name": "stdout",
          "output_type": "stream",
          "text": [
            "True: mean 3.54, std 1.07\n",
            "Pred: mean 3.55, std 0.585\n",
            "RSME: 0.8645370321814194\n"
          ]
        },
        {
          "data": {
            "text/html": [
              "<div>\n",
              "<style scoped>\n",
              "    .dataframe tbody tr th:only-of-type {\n",
              "        vertical-align: middle;\n",
              "    }\n",
              "\n",
              "    .dataframe tbody tr th {\n",
              "        vertical-align: top;\n",
              "    }\n",
              "\n",
              "    .dataframe thead th {\n",
              "        text-align: right;\n",
              "    }\n",
              "</style>\n",
              "<table border=\"1\" class=\"dataframe\">\n",
              "  <thead>\n",
              "    <tr style=\"text-align: right;\">\n",
              "      <th></th>\n",
              "      <th>user</th>\n",
              "      <th>movie</th>\n",
              "      <th>rating</th>\n",
              "      <th>pred</th>\n",
              "      <th>error</th>\n",
              "    </tr>\n",
              "  </thead>\n",
              "  <tbody>\n",
              "    <tr>\n",
              "      <th>0</th>\n",
              "      <td>10822</td>\n",
              "      <td>21764</td>\n",
              "      <td>4.0</td>\n",
              "      <td>3.847170</td>\n",
              "      <td>0.152830</td>\n",
              "    </tr>\n",
              "    <tr>\n",
              "      <th>1</th>\n",
              "      <td>10821</td>\n",
              "      <td>1167</td>\n",
              "      <td>3.5</td>\n",
              "      <td>3.749898</td>\n",
              "      <td>-0.249898</td>\n",
              "    </tr>\n",
              "    <tr>\n",
              "      <th>2</th>\n",
              "      <td>10804</td>\n",
              "      <td>582</td>\n",
              "      <td>3.0</td>\n",
              "      <td>3.928986</td>\n",
              "      <td>-0.928986</td>\n",
              "    </tr>\n",
              "    <tr>\n",
              "      <th>3</th>\n",
              "      <td>2455</td>\n",
              "      <td>8201</td>\n",
              "      <td>5.0</td>\n",
              "      <td>4.150442</td>\n",
              "      <td>0.849558</td>\n",
              "    </tr>\n",
              "    <tr>\n",
              "      <th>4</th>\n",
              "      <td>587</td>\n",
              "      <td>8197</td>\n",
              "      <td>2.5</td>\n",
              "      <td>3.252175</td>\n",
              "      <td>-0.752175</td>\n",
              "    </tr>\n",
              "  </tbody>\n",
              "</table>\n",
              "</div>"
            ],
            "text/plain": [
              "    user  movie  rating      pred     error\n",
              "0  10822  21764     4.0  3.847170  0.152830\n",
              "1  10821   1167     3.5  3.749898 -0.249898\n",
              "2  10804    582     3.0  3.928986 -0.928986\n",
              "3   2455   8201     5.0  4.150442  0.849558\n",
              "4    587   8197     2.5  3.252175 -0.752175"
            ]
          },
          "execution_count": 27,
          "metadata": {},
          "output_type": "execute_result"
        }
      ],
      "source": [
        "test = test_ds[:None]\n",
        "userIds = test[\"cat\"][:, cat_cols.index(\"user\")]\n",
        "movieIds = test[\"cat\"][:, cat_cols.index(\"movie\")]\n",
        "pred = model.recommend_for_users(\n",
        "    users=userIds,\n",
        "    movies=movieIds,\n",
        "    **test,\n",
        "    sort=False,\n",
        "    wrap=False,\n",
        ")\n",
        "test = pd.DataFrame(dict(pred=pred,rating=test[\"y\"],user=userIds,movie=movieIds))\n",
        "test[\"rating\"] =test[\"rating\"] * 5 \n",
        "test[\"error\"] = test.rating - test.pred\n",
        "\n",
        "print(f\"True: mean {test.rating.mean():.3}, std {test.rating.std():.3}\")\n",
        "print(f\"Pred: mean {test.pred.mean():.3}, std {test.pred.std():.3}\")\n",
        "print(f\"RSME: {root_mean_squared_error(test.rating,test.pred)}\")\n",
        "test[[\"user\", \"movie\", \"rating\", \"pred\", \"error\"]].head()"
      ]
    },
    {
      "cell_type": "code",
      "execution_count": 28,
      "metadata": {},
      "outputs": [
        {
          "data": {
            "text/plain": [
              "array([4. , 3.5, 3. , 5. , 2.5, 1. , 4.5, 0.5, 2. , 1.5], dtype=float32)"
            ]
          },
          "execution_count": 28,
          "metadata": {},
          "output_type": "execute_result"
        }
      ],
      "source": [
        "test.rating.unique()"
      ]
    },
    {
      "cell_type": "code",
      "execution_count": 29,
      "metadata": {},
      "outputs": [
        {
          "data": {
            "text/plain": [
              "<matplotlib.legend.Legend at 0x200c1cc0bc0>"
            ]
          },
          "execution_count": 29,
          "metadata": {},
          "output_type": "execute_result"
        },
        {
          "data": {
            "image/png": "[encoded data removed]",
            "text/plain": [
              "<Figure size 1600x400 with 2 Axes>"
            ]
          },
          "metadata": {},
          "output_type": "display_data"
        }
      ],
      "source": [
        "_, (ax1, ax2) = plt.subplots(1, 2, figsize=(16, 4))\n",
        "sns.histplot(test.error, fill=True, label=\"error\", ax=ax2, kde=True)\n",
        "\n",
        "sns.histplot(test.rating, fill=True, label=\"true\", ax=ax1, bins=20, kde=False)\n",
        "sns.histplot(test.pred, fill=True, label=\"pred\", ax=ax1, bins=20, kde=False)\n",
        "ax1.legend()\n",
        "ax2.legend()"
      ]
    },
    {
      "cell_type": "code",
      "execution_count": 30,
      "metadata": {},
      "outputs": [
        {
          "data": {
            "text/plain": [
              "[Recommendation(userId=3, movieId=300, predicted_rating=4.999999046325684),\n",
              " Recommendation(userId=3, movieId=55, predicted_rating=4.999988555908203)]"
            ]
          },
          "execution_count": 30,
          "metadata": {},
          "output_type": "execute_result"
        }
      ],
      "source": [
        "model.recommend_for_users(**model.prepare(\n",
        "    3,\n",
        "    movieIds=[55, 300],\n",
        "), sort=True)"
      ]
    }
  ],
  "metadata": {
    "kernelspec": {
      "display_name": "Python 3",
      "language": "python",
      "name": "python3"
    },
    "language_info": {
      "codemirror_mode": {
        "name": "ipython",
        "version": 3
      },
      "file_extension": ".py",
      "mimetype": "text/x-python",
      "name": "python",
      "nbconvert_exporter": "python",
      "pygments_lexer": "ipython3",
      "version": "3.12.1"
    }
  },
  "nbformat": 4,
  "nbformat_minor": 2
}
