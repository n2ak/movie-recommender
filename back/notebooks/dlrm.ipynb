{
  "cells": [
    {
      "cell_type": "code",
      "execution_count": 1,
      "metadata": {},
      "outputs": [],
      "source": [
        "import os,sys\n",
        "sys.path.append(os.path.abspath(\"..\"))"
      ]
    },
    {
      "cell_type": "code",
      "execution_count": 2,
      "metadata": {},
      "outputs": [],
      "source": [
        "from core.modeling.dlrm import DLRMParams, DLRM\n",
        "import torch\n",
        "import numpy as np\n",
        "import pandas as pd\n",
        "import torch.utils.data\n",
        "import torch.nn.functional as F\n",
        "import matplotlib.pyplot as plt\n",
        "from sklearn.metrics import root_mean_squared_error\n",
        "from core.data import preprocess, get_cols,encode_ids\n",
        "from core.utils import seed_all, to_csv\n",
        "import seaborn as sns\n",
        "import pathlib\n",
        "sns.set_theme(style=\"darkgrid\")\n",
        "device = \"cuda\" if torch.cuda.is_available() else \"cpu\"\n",
        "device = \"cpu\"\n",
        "seed = 0\n",
        "seed_all(seed)\n",
        "new_model = False"
      ]
    },
    {
      "cell_type": "code",
      "execution_count": 25,
      "metadata": {},
      "outputs": [
        {
          "data": {
            "text/plain": [
              "[Recommendation(userId=8957, movieId=51, predicted_rating=9.301739692687988),\n",
              " Recommendation(userId=8957, movieId=101, predicted_rating=9.62096118927002),\n",
              " Recommendation(userId=8957, movieId=151, predicted_rating=9.59318733215332),\n",
              " Recommendation(userId=8957, movieId=200, predicted_rating=8.942975044250488),\n",
              " Recommendation(userId=8957, movieId=249, predicted_rating=9.486276626586914),\n",
              " Recommendation(userId=8957, movieId=299, predicted_rating=8.964990615844727),\n",
              " Recommendation(userId=8957, movieId=348, predicted_rating=9.495988845825195),\n",
              " Recommendation(userId=8957, movieId=398, predicted_rating=9.574234008789062),\n",
              " Recommendation(userId=8957, movieId=448, predicted_rating=9.490893363952637),\n",
              " Recommendation(userId=8957, movieId=498, predicted_rating=8.938100814819336)]"
            ]
          },
          "execution_count": 25,
          "metadata": {},
          "output_type": "execute_result"
        }
      ],
      "source": [
        "from recommender import Recommender, Request,SimilarMoviesRequest\n",
        "Recommender.recommend_similar_movies(SimilarMoviesRequest(\n",
        "    userId=8957,  # the max id\n",
        "    movieIds=[1],\n",
        "    start=0,\n",
        "    count=10,\n",
        "))"
      ]
    },
    {
      "cell_type": "code",
      "execution_count": 79,
      "metadata": {},
      "outputs": [],
      "source": [
        "filename = \"dlrm.pt\"\n",
        "max_rating = 10\n",
        "label = \"rating\""
      ]
    },
    {
      "cell_type": "code",
      "execution_count": null,
      "metadata": {},
      "outputs": [
        {
          "name": "stdout",
          "output_type": "stream",
          "text": [
            "Saved to ratings_processed.csv\n"
          ]
        },
        {
          "data": {
            "text/html": [
              "<div>\n",
              "<style scoped>\n",
              "    .dataframe tbody tr th:only-of-type {\n",
              "        vertical-align: middle;\n",
              "    }\n",
              "\n",
              "    .dataframe tbody tr th {\n",
              "        vertical-align: top;\n",
              "    }\n",
              "\n",
              "    .dataframe thead th {\n",
              "        text-align: right;\n",
              "    }\n",
              "</style>\n",
              "<table border=\"1\" class=\"dataframe\">\n",
              "  <thead>\n",
              "    <tr style=\"text-align: right;\">\n",
              "      <th></th>\n",
              "      <th>rating</th>\n",
              "      <th>userId</th>\n",
              "      <th>movieId</th>\n",
              "      <th>movie_year</th>\n",
              "      <th>movie_total_ratings</th>\n",
              "      <th>movie_Action</th>\n",
              "      <th>movie_Adventure</th>\n",
              "      <th>movie_Animation</th>\n",
              "      <th>movie_Biography</th>\n",
              "      <th>movie_Comedy</th>\n",
              "      <th>...</th>\n",
              "      <th>user_movie_Horror_avg_rating</th>\n",
              "      <th>user_movie_Music_avg_rating</th>\n",
              "      <th>user_movie_Mystery_avg_rating</th>\n",
              "      <th>user_movie_Romance_avg_rating</th>\n",
              "      <th>user_movie_Sci-Fi_avg_rating</th>\n",
              "      <th>user_movie_Thriller_avg_rating</th>\n",
              "      <th>user_movie_War_avg_rating</th>\n",
              "      <th>user_movie_Western_avg_rating</th>\n",
              "      <th>movie_avg_rating</th>\n",
              "      <th>user_avg_rating</th>\n",
              "    </tr>\n",
              "  </thead>\n",
              "  <tbody>\n",
              "    <tr>\n",
              "      <th>0</th>\n",
              "      <td>1.0</td>\n",
              "      <td>0</td>\n",
              "      <td>0</td>\n",
              "      <td>0</td>\n",
              "      <td>2</td>\n",
              "      <td>0</td>\n",
              "      <td>0</td>\n",
              "      <td>0</td>\n",
              "      <td>0</td>\n",
              "      <td>0</td>\n",
              "      <td>...</td>\n",
              "      <td>6.000000</td>\n",
              "      <td>0.0</td>\n",
              "      <td>8.750000</td>\n",
              "      <td>0.0</td>\n",
              "      <td>8.75</td>\n",
              "      <td>8.000000</td>\n",
              "      <td>10.0</td>\n",
              "      <td>0.0</td>\n",
              "      <td>9.0</td>\n",
              "      <td>8.933333</td>\n",
              "    </tr>\n",
              "    <tr>\n",
              "      <th>1</th>\n",
              "      <td>1.0</td>\n",
              "      <td>1</td>\n",
              "      <td>0</td>\n",
              "      <td>0</td>\n",
              "      <td>2</td>\n",
              "      <td>0</td>\n",
              "      <td>0</td>\n",
              "      <td>0</td>\n",
              "      <td>0</td>\n",
              "      <td>0</td>\n",
              "      <td>...</td>\n",
              "      <td>9.166667</td>\n",
              "      <td>10.0</td>\n",
              "      <td>9.142858</td>\n",
              "      <td>9.0</td>\n",
              "      <td>8.40</td>\n",
              "      <td>9.071428</td>\n",
              "      <td>0.0</td>\n",
              "      <td>10.0</td>\n",
              "      <td>9.0</td>\n",
              "      <td>9.200000</td>\n",
              "    </tr>\n",
              "  </tbody>\n",
              "</table>\n",
              "<p>2 rows × 45 columns</p>\n",
              "</div>"
            ],
            "text/plain": [
              "   rating  userId  movieId  movie_year  movie_total_ratings  movie_Action  \\\n",
              "0     1.0       0        0           0                    2             0   \n",
              "1     1.0       1        0           0                    2             0   \n",
              "\n",
              "   movie_Adventure  movie_Animation  movie_Biography  movie_Comedy  ...  \\\n",
              "0                0                0                0             0  ...   \n",
              "1                0                0                0             0  ...   \n",
              "\n",
              "   user_movie_Horror_avg_rating  user_movie_Music_avg_rating  \\\n",
              "0                      6.000000                          0.0   \n",
              "1                      9.166667                         10.0   \n",
              "\n",
              "   user_movie_Mystery_avg_rating  user_movie_Romance_avg_rating  \\\n",
              "0                       8.750000                            0.0   \n",
              "1                       9.142858                            9.0   \n",
              "\n",
              "   user_movie_Sci-Fi_avg_rating  user_movie_Thriller_avg_rating  \\\n",
              "0                          8.75                        8.000000   \n",
              "1                          8.40                        9.071428   \n",
              "\n",
              "   user_movie_War_avg_rating  user_movie_Western_avg_rating  movie_avg_rating  \\\n",
              "0                       10.0                            0.0               9.0   \n",
              "1                        0.0                           10.0               9.0   \n",
              "\n",
              "   user_avg_rating  \n",
              "0         8.933333  \n",
              "1         9.200000  \n",
              "\n",
              "[2 rows x 45 columns]"
            ]
          },
          "execution_count": 83,
          "metadata": {},
          "output_type": "execute_result"
        }
      ],
      "source": [
        "ratings = pd.read_csv(\"../dataset/db.csv\")\n",
        "ratings = preprocess(ratings,max_rating)\n",
        "cat_cols, num_cols = get_cols(ratings)\n",
        "to_csv(ratings, \"ratings_processed.csv\")\n",
        "encode_ids(ratings)\n",
        "nusers = ratings.userId.nunique()\n",
        "nmovies = ratings.movieId.nunique()\n",
        "unique = ratings[cat_cols].nunique().tolist()\n",
        "\n",
        "ratings.head(2)"
      ]
    },
    {
      "cell_type": "code",
      "execution_count": 58,
      "metadata": {},
      "outputs": [
        {
          "data": {
            "text/plain": [
              "userId     6600\n",
              "movieId     181\n",
              "dtype: int64"
            ]
          },
          "execution_count": 58,
          "metadata": {},
          "output_type": "execute_result"
        }
      ],
      "source": [
        "ratings[[\"userId\",\"movieId\"]].max()"
      ]
    },
    {
      "cell_type": "code",
      "execution_count": 59,
      "metadata": {},
      "outputs": [
        {
          "data": {
            "text/plain": [
              "(torch.float32, torch.int64, torch.float32)"
            ]
          },
          "execution_count": 59,
          "metadata": {},
          "output_type": "execute_result"
        }
      ],
      "source": [
        "class DS(torch.utils.data.Dataset):\n",
        "    def __init__(\n",
        "        self,\n",
        "        num,\n",
        "        cat,\n",
        "        y,\n",
        "    ) -> None:\n",
        "        super().__init__()\n",
        "        self.num = num\n",
        "        self.cat = cat\n",
        "        self.y = y\n",
        "\n",
        "    def __len__(self):\n",
        "        l = self.num.shape[0]\n",
        "        return l\n",
        "\n",
        "    def __getitem__(self, index):\n",
        "        num = self.num[index]\n",
        "        cat = self.cat[index]\n",
        "        y = self.y[index]\n",
        "        # X,y\n",
        "        return dict(num=num, cat=cat,y=y)\n",
        "\n",
        "batch_size = 64\n",
        "all_ds = DS(\n",
        "    ratings[num_cols].values,\n",
        "    ratings[cat_cols].values,\n",
        "    ratings[label].values,\n",
        ")\n",
        "train_ds, valid_ds, test_ds = torch.utils.data.random_split(all_ds,[.8, .1, .1])\n",
        "train_dl = torch.utils.data.DataLoader(train_ds, batch_size=batch_size,shuffle=True)\n",
        "valid_dl = torch.utils.data.DataLoader(valid_ds, batch_size=batch_size,shuffle=True)\n",
        "_d=next(iter(train_dl))\n",
        "_d[\"num\"].dtype, _d[\"cat\"].dtype, _d[\"y\"].dtype"
      ]
    },
    {
      "cell_type": "code",
      "execution_count": 60,
      "metadata": {},
      "outputs": [
        {
          "data": {
            "text/plain": [
              "2.046875"
            ]
          },
          "execution_count": 60,
          "metadata": {},
          "output_type": "execute_result"
        }
      ],
      "source": [
        "model = DLRM(\n",
        "    DLRMParams(\n",
        "        model_name=\"DLRM\",\n",
        "        lr=.001,\n",
        "        n_users=nusers,\n",
        "        n_movies=nmovies,\n",
        "        bot_layers=[len(num_cols), 32*2],\n",
        "        embds=[(n, 32*2) for n in unique],\n",
        "        top_layers=[32*2],\n",
        "        bot_p=.2,\n",
        "        top_p=.2,\n",
        "    ),\n",
        ").to(device)\n",
        "optimizer = torch.optim.AdamW(\n",
        "    model.parameters(), model.params.lr, weight_decay=0.01)\n",
        "training_result = None\n",
        "# model\n",
        "model.numel()*4/(1024**2)\n",
        "# params.to_dict()"
      ]
    },
    {
      "cell_type": "code",
      "execution_count": 61,
      "metadata": {},
      "outputs": [
        {
          "name": "stderr",
          "output_type": "stream",
          "text": [
            "Epoch:  1, loss : 0.0104, val_loss: 0.0146: 100%|██████████| 112/112 [00:01<00:00, 86.82it/s]\n"
          ]
        }
      ],
      "source": [
        "epochs = 1\n",
        "patience = 5\n",
        "training_result = model.fit(\n",
        "    optimizer,\n",
        "    train_dl,   \n",
        "    loss_fn=F.mse_loss,\n",
        "    metric=root_mean_squared_error,\n",
        "    epochs=epochs,\n",
        "    val_ld=valid_dl,\n",
        "    patience=patience,\n",
        "    last_training_result=training_result\n",
        ")"
      ]
    },
    {
      "cell_type": "code",
      "execution_count": 62,
      "metadata": {},
      "outputs": [
        {
          "name": "stdout",
          "output_type": "stream",
          "text": [
            "Model saved.\n"
          ]
        },
        {
          "data": {
            "image/png": "[encoded data removed]",
            "text/plain": [
              "<Figure size 1000x400 with 2 Axes>"
            ]
          },
          "metadata": {},
          "output_type": "display_data"
        }
      ],
      "source": [
        "model.save(\n",
        "    filename,\n",
        "    optimizer=optimizer,\n",
        "    last_training_result=training_result,\n",
        ")\n",
        "training_result.plot(score_name=\"RMSE\")"
      ]
    },
    {
      "cell_type": "code",
      "execution_count": 63,
      "metadata": {},
      "outputs": [],
      "source": [
        "model = DLRM.load(filename, model_only=True,device=device)"
      ]
    },
    {
      "cell_type": "code",
      "execution_count": 64,
      "metadata": {},
      "outputs": [
        {
          "name": "stdout",
          "output_type": "stream",
          "text": [
            "True: mean 7.67, std 3.04\n",
            "Pred: mean 7.87, std 2.78\n",
            "RSME: 1.121568370329166\n"
          ]
        },
        {
          "data": {
            "text/html": [
              "<div>\n",
              "<style scoped>\n",
              "    .dataframe tbody tr th:only-of-type {\n",
              "        vertical-align: middle;\n",
              "    }\n",
              "\n",
              "    .dataframe tbody tr th {\n",
              "        vertical-align: top;\n",
              "    }\n",
              "\n",
              "    .dataframe thead th {\n",
              "        text-align: right;\n",
              "    }\n",
              "</style>\n",
              "<table border=\"1\" class=\"dataframe\">\n",
              "  <thead>\n",
              "    <tr style=\"text-align: right;\">\n",
              "      <th></th>\n",
              "      <th>pred</th>\n",
              "      <th>rating</th>\n",
              "      <th>userId</th>\n",
              "      <th>movieId</th>\n",
              "      <th>error</th>\n",
              "    </tr>\n",
              "  </thead>\n",
              "  <tbody>\n",
              "    <tr>\n",
              "      <th>0</th>\n",
              "      <td>9.967540</td>\n",
              "      <td>10.0</td>\n",
              "      <td>1098</td>\n",
              "      <td>103</td>\n",
              "      <td>0.032460</td>\n",
              "    </tr>\n",
              "    <tr>\n",
              "      <th>1</th>\n",
              "      <td>9.287140</td>\n",
              "      <td>6.0</td>\n",
              "      <td>2947</td>\n",
              "      <td>72</td>\n",
              "      <td>-3.287140</td>\n",
              "    </tr>\n",
              "    <tr>\n",
              "      <th>2</th>\n",
              "      <td>9.118270</td>\n",
              "      <td>8.0</td>\n",
              "      <td>464</td>\n",
              "      <td>46</td>\n",
              "      <td>-1.118270</td>\n",
              "    </tr>\n",
              "    <tr>\n",
              "      <th>3</th>\n",
              "      <td>9.959254</td>\n",
              "      <td>10.0</td>\n",
              "      <td>62</td>\n",
              "      <td>25</td>\n",
              "      <td>0.040746</td>\n",
              "    </tr>\n",
              "    <tr>\n",
              "      <th>4</th>\n",
              "      <td>9.378143</td>\n",
              "      <td>7.0</td>\n",
              "      <td>1333</td>\n",
              "      <td>163</td>\n",
              "      <td>-2.378143</td>\n",
              "    </tr>\n",
              "    <tr>\n",
              "      <th>...</th>\n",
              "      <td>...</td>\n",
              "      <td>...</td>\n",
              "      <td>...</td>\n",
              "      <td>...</td>\n",
              "      <td>...</td>\n",
              "    </tr>\n",
              "    <tr>\n",
              "      <th>890</th>\n",
              "      <td>9.196404</td>\n",
              "      <td>10.0</td>\n",
              "      <td>3021</td>\n",
              "      <td>74</td>\n",
              "      <td>0.803596</td>\n",
              "    </tr>\n",
              "    <tr>\n",
              "      <th>891</th>\n",
              "      <td>0.705467</td>\n",
              "      <td>0.0</td>\n",
              "      <td>5419</td>\n",
              "      <td>146</td>\n",
              "      <td>-0.705467</td>\n",
              "    </tr>\n",
              "    <tr>\n",
              "      <th>892</th>\n",
              "      <td>0.748517</td>\n",
              "      <td>0.0</td>\n",
              "      <td>5408</td>\n",
              "      <td>146</td>\n",
              "      <td>-0.748517</td>\n",
              "    </tr>\n",
              "    <tr>\n",
              "      <th>893</th>\n",
              "      <td>5.174096</td>\n",
              "      <td>6.0</td>\n",
              "      <td>3140</td>\n",
              "      <td>78</td>\n",
              "      <td>0.825904</td>\n",
              "    </tr>\n",
              "    <tr>\n",
              "      <th>894</th>\n",
              "      <td>9.126890</td>\n",
              "      <td>10.0</td>\n",
              "      <td>1353</td>\n",
              "      <td>32</td>\n",
              "      <td>0.873110</td>\n",
              "    </tr>\n",
              "  </tbody>\n",
              "</table>\n",
              "<p>895 rows × 5 columns</p>\n",
              "</div>"
            ],
            "text/plain": [
              "         pred  rating  userId  movieId     error\n",
              "0    9.967540    10.0    1098      103  0.032460\n",
              "1    9.287140     6.0    2947       72 -3.287140\n",
              "2    9.118270     8.0     464       46 -1.118270\n",
              "3    9.959254    10.0      62       25  0.040746\n",
              "4    9.378143     7.0    1333      163 -2.378143\n",
              "..        ...     ...     ...      ...       ...\n",
              "890  9.196404    10.0    3021       74  0.803596\n",
              "891  0.705467     0.0    5419      146 -0.705467\n",
              "892  0.748517     0.0    5408      146 -0.748517\n",
              "893  5.174096     6.0    3140       78  0.825904\n",
              "894  9.126890    10.0    1353       32  0.873110\n",
              "\n",
              "[895 rows x 5 columns]"
            ]
          },
          "execution_count": 64,
          "metadata": {},
          "output_type": "execute_result"
        }
      ],
      "source": [
        "test = test_ds[:None]\n",
        "userIds = test[\"cat\"][:, cat_cols.index(\"userId\")]\n",
        "movieIds = test[\"cat\"][:, cat_cols.index(\"movieId\")]\n",
        "pred = model.recommend_for_users(\n",
        "    userIds,\n",
        "    movieIds,\n",
        "    max_rating,\n",
        ")\n",
        "test = pd.DataFrame(dict(pred=pred,rating=test[\"y\"],userId=userIds,movieId=movieIds))\n",
        "test[\"rating\"] =test[\"rating\"] * max_rating\n",
        "test[\"error\"] = test.rating - test.pred\n",
        "\n",
        "print(f\"True: mean {test.rating.mean():.3}, std {test.rating.std():.3}\")\n",
        "print(f\"Pred: mean {test.pred.mean():.3}, std {test.pred.std():.3}\")\n",
        "print(f\"RSME: {root_mean_squared_error(test.rating,test.pred)}\")\n",
        "test#[[\"userId\", \"movieId\", \"rating\", \"pred\", \"error\"]].head()"
      ]
    },
    {
      "cell_type": "code",
      "execution_count": 65,
      "metadata": {},
      "outputs": [
        {
          "data": {
            "text/plain": [
              "<matplotlib.legend.Legend at 0x219e4e54bf0>"
            ]
          },
          "execution_count": 65,
          "metadata": {},
          "output_type": "execute_result"
        },
        {
          "data": {
            "image/png": "[encoded data removed]",
            "text/plain": [
              "<Figure size 1600x400 with 2 Axes>"
            ]
          },
          "metadata": {},
          "output_type": "display_data"
        }
      ],
      "source": [
        "_, (ax1, ax2) = plt.subplots(1, 2, figsize=(16, 4))\n",
        "sns.histplot(test.error, fill=True, label=\"error\", ax=ax2, kde=True)\n",
        "\n",
        "sns.histplot(test.rating, fill=True, label=\"true\", ax=ax1, bins=20, kde=False)\n",
        "sns.histplot(test.pred, fill=True, label=\"pred\", ax=ax1, bins=20, kde=False)\n",
        "ax1.legend()\n",
        "ax2.legend()"
      ]
    },
    {
      "cell_type": "code",
      "execution_count": null,
      "metadata": {},
      "outputs": [
        {
          "name": "stdout",
          "output_type": "stream",
          "text": [
            "6600\n",
            "userId=6600 movieIds=[] genres=[]\n"
          ]
        },
        {
          "data": {
            "text/plain": [
              "[Recommendation(userId=8957, movieId=348, predicted_rating=9.495988845825195),\n",
              " Recommendation(userId=8957, movieId=598, predicted_rating=9.320687294006348),\n",
              " Recommendation(userId=8957, movieId=1445, predicted_rating=9.389086723327637),\n",
              " Recommendation(userId=8957, movieId=1695, predicted_rating=9.307014465332031),\n",
              " Recommendation(userId=8957, movieId=2469, predicted_rating=9.039295196533203),\n",
              " Recommendation(userId=8957, movieId=2619, predicted_rating=9.354888916015625),\n",
              " Recommendation(userId=8957, movieId=3281, predicted_rating=9.36218547821045),\n",
              " Recommendation(userId=8957, movieId=5022, predicted_rating=9.294439315795898),\n",
              " Recommendation(userId=8957, movieId=8411, predicted_rating=9.252525329589844),\n",
              " Recommendation(userId=8957, movieId=8908, predicted_rating=9.309391021728516)]"
            ]
          },
          "execution_count": 76,
          "metadata": {},
          "output_type": "execute_result"
        }
      ],
      "source": []
    }
  ],
  "metadata": {
    "kernelspec": {
      "display_name": "Python 3",
      "language": "python",
      "name": "python3"
    },
    "language_info": {
      "codemirror_mode": {
        "name": "ipython",
        "version": 3
      },
      "file_extension": ".py",
      "mimetype": "text/x-python",
      "name": "python",
      "nbconvert_exporter": "python",
      "pygments_lexer": "ipython3",
      "version": "3.12.1"
    }
  },
  "nbformat": 4,
  "nbformat_minor": 2
}
