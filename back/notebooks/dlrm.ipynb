{
  "cells": [
    {
      "cell_type": "code",
      "execution_count": 4,
      "metadata": {},
      "outputs": [
        {
          "name": "stdout",
          "output_type": "stream",
          "text": [
            "The autoreload extension is already loaded. To reload it, use:\n",
            "  %reload_ext autoreload\n"
          ]
        }
      ],
      "source": [
        "%load_ext autoreload\n",
        "%autoreload 2\n",
        "\n",
        "import os,sys\n",
        "sys.path.append(os.path.abspath(\"..\"))\n",
        "sys.path.append(os.path.abspath(\"../training\"))"
      ]
    },
    {
      "cell_type": "code",
      "execution_count": 5,
      "metadata": {},
      "outputs": [],
      "source": [
        "import os\n",
        "os.environ[\"EXP_NAME\"] = \"movie_recom\"\n",
        "os.environ[\"MAX_RATING\"] = \"5\"\n",
        "os.environ[\"MLFLOW_TRACKING_URI\"] = \"http://localhost:8081\"\n",
        "os.environ[\"EPOCH\"] = \"2\""
      ]
    },
    {
      "cell_type": "code",
      "execution_count": 6,
      "metadata": {},
      "outputs": [],
      "source": [
        "from workflow.dags.extract import extract_data\n",
        "from workflow.dags.transform import process_data\n",
        "from training.train_dlrm import train_dlrm, read_ds"
      ]
    },
    {
      "cell_type": "code",
      "execution_count": null,
      "metadata": {},
      "outputs": [],
      "source": [
        "paths = extract_data()\n",
        "process_data(paths[\"ratings_path\"], paths[\"movies_path\"],\"dlrm\")"
      ]
    },
    {
      "cell_type": "code",
      "execution_count": null,
      "metadata": {},
      "outputs": [],
      "source": [
        "train, test = read_ds(\"dlrm_train_ds\"), read_ds(\"dlrm_test_ds\")"
      ]
    },
    {
      "cell_type": "code",
      "execution_count": null,
      "metadata": {},
      "outputs": [],
      "source": [
        "train_dlrm(\n",
        "    train,\n",
        "    test,\n",
        "    2,\n",
        "    \"movie_recom\",\n",
        "    \"http://localhost:8081\"\n",
        ")"
      ]
    }
  ],
  "metadata": {
    "kernelspec": {
      "display_name": "cudatorch",
      "language": "python",
      "name": "python3"
    },
    "language_info": {
      "codemirror_mode": {
        "name": "ipython",
        "version": 3
      },
      "file_extension": ".py",
      "mimetype": "text/x-python",
      "name": "python",
      "nbconvert_exporter": "python",
      "pygments_lexer": "ipython3",
      "version": "3.12.11"
    }
  },
  "nbformat": 4,
  "nbformat_minor": 2
}
