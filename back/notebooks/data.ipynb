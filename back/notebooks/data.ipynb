{
  "cells": [
    {
      "cell_type": "code",
      "execution_count": null,
      "metadata": {},
      "outputs": [],
      "source": [
        "%load_ext autoreload\n",
        "%autoreload 2\n",
        "import os,sys\n",
        "sys.path.append(os.path.abspath(\"..\"))"
      ]
    },
    {
      "cell_type": "code",
      "execution_count": null,
      "metadata": {},
      "outputs": [],
      "source": [
        "# !pip install --upgrade huggingface_hub -q"
      ]
    },
    {
      "cell_type": "code",
      "execution_count": null,
      "metadata": {},
      "outputs": [],
      "source": [
        "from IPython.display import HTML\n",
        "import numpy as np\n",
        "import pandas as pd\n",
        "import matplotlib.pyplot as plt\n",
        "import seaborn as sns\n",
        "\n",
        "sns.set_theme(style=\"darkgrid\")\n",
        "plt.style.use('dark_background')\n",
        "max_rating = 5"
      ]
    },
    {
      "cell_type": "code",
      "execution_count": null,
      "metadata": {},
      "outputs": [],
      "source": [
        "from scripts.get_ds import read_ds,process,save"
      ]
    },
    {
      "cell_type": "code",
      "execution_count": null,
      "metadata": {},
      "outputs": [],
      "source": [
        "df = read_ds()"
      ]
    },
    {
      "cell_type": "code",
      "execution_count": null,
      "metadata": {},
      "outputs": [],
      "source": [
        "ratings, movies, users = process(df)\n",
        "paths = save(\n",
        "    ratings=ratings,\n",
        "    movies=movies,\n",
        "    users=users,\n",
        ")\n",
        "print(\" \".join(paths))"
      ]
    },
    {
      "cell_type": "code",
      "execution_count": null,
      "metadata": {},
      "outputs": [],
      "source": [
        "def image(src, width=200, height=300):\n",
        "    return f'<img src=\"{src}\" style=\"width: {width}px; height: {height}px\"/>'\n",
        "\n",
        "\n",
        "def images(srcs, width=200, height=300):\n",
        "    assert len(srcs) <= 20\n",
        "    return ''.join([image(src, width=width, height=height)for src in srcs])\n",
        "\n",
        "\n",
        "HTML(data=images(df[:5].posters))"
      ]
    }
  ],
  "metadata": {
    "kernelspec": {
      "display_name": "cudatorch",
      "language": "python",
      "name": "python3"
    },
    "language_info": {
      "codemirror_mode": {
        "name": "ipython",
        "version": 3
      },
      "file_extension": ".py",
      "mimetype": "text/x-python",
      "name": "python",
      "nbconvert_exporter": "python",
      "pygments_lexer": "ipython3",
      "version": "3.12.11"
    }
  },
  "nbformat": 4,
  "nbformat_minor": 2
}
