{
 "cells": [
  {
   "cell_type": "code",
   "execution_count": null,
   "id": "34704d4d",
   "metadata": {},
   "outputs": [],
   "source": [
    "%load_ext autoreload\n",
    "%autoreload 2\n",
    "\n",
    "import os,sys\n",
    "sys.path.append(os.path.abspath(\"..\"))\n",
    "sys.path.append(os.path.abspath(\"../training\"))"
   ]
  },
  {
   "cell_type": "code",
   "execution_count": null,
   "id": "8cb0cdfd",
   "metadata": {},
   "outputs": [],
   "source": [
    "import os\n",
    "os.environ[\"EXP_NAME\"] = \"movie_recom\"\n",
    "os.environ[\"MAX_RATING\"] = \"5\"\n",
    "os.environ[\"MLFLOW_TRACKING_URI\"] = \"http://localhost:8081\"\n",
    "os.environ[\"NUM_BOOST_ROUND\"] = \"100\""
   ]
  },
  {
   "cell_type": "code",
   "execution_count": null,
   "id": "1a385459",
   "metadata": {},
   "outputs": [],
   "source": [
    "from workflow.dags.extract import extract_data\n",
    "from workflow.dags.transform import process_data\n",
    "from training.train_xgb import train_xgb, read_ds"
   ]
  },
  {
   "cell_type": "code",
   "execution_count": null,
   "id": "d7ff84d8",
   "metadata": {},
   "outputs": [],
   "source": [
    "paths = extract_data()\n",
    "process_data(paths[\"ratings_path\"], paths[\"movies_path\"], \"xgb\")"
   ]
  },
  {
   "cell_type": "code",
   "execution_count": null,
   "id": "45cbd386",
   "metadata": {},
   "outputs": [],
   "source": [
    "train, test = read_ds(\"xgb_train_ds\"), read_ds(\"xgb_test_ds\")"
   ]
  },
  {
   "cell_type": "code",
   "execution_count": null,
   "id": "3a59107f",
   "metadata": {},
   "outputs": [],
   "source": [
    "train_xgb(\n",
    "    train,test,\n",
    "    5,\"movie_recom\",\n",
    "    False,1000,\n",
    "    \"http://localhost:8081\"\n",
    ")                                                                  "
   ]
  },
  {
   "cell_type": "code",
   "execution_count": null,
   "id": "92c49323",
   "metadata": {},
   "outputs": [],
   "source": [
    "test_xgb_model()"
   ]
  }
 ],
 "metadata": {
  "kernelspec": {
   "display_name": "cudatorch",
   "language": "python",
   "name": "python3"
  },
  "language_info": {
   "codemirror_mode": {
    "name": "ipython",
    "version": 3
   },
   "file_extension": ".py",
   "mimetype": "text/x-python",
   "name": "python",
   "nbconvert_exporter": "python",
   "pygments_lexer": "ipython3",
   "version": "3.12.11"
  }
 },
 "nbformat": 4,
 "nbformat_minor": 5
}
