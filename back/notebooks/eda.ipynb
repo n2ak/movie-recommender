{
  "cells": [
    {
      "cell_type": "code",
      "execution_count": null,
      "metadata": {},
      "outputs": [],
      "source": [
        "import os,sys\n",
        "sys.path.append(os.path.abspath(\"..\"))"
      ]
    },
    {
      "cell_type": "code",
      "execution_count": null,
      "metadata": {},
      "outputs": [],
      "source": [
        "import numpy as np\n",
        "import pandas as pd\n",
        "import matplotlib.pyplot as plt\n",
        "from core.data import *\n",
        "from scripts.process_data import make_final_df\n",
        "from core.utils import seed_all\n",
        "import seaborn as sns\n",
        "# sns.set_theme(style=\"darkgrid\")\n",
        "seed = 1\n",
        "palette = sns.palettes.color_palette(\"bright\", as_cmap=True)\n",
        "sns.set_palette(palette=palette)\n",
        "seed_all(seed)"
      ]
    },
    {
      "cell_type": "code",
      "execution_count": null,
      "metadata": {},
      "outputs": [],
      "source": [
        "from api import Recommender,Request\n",
        "Recommender.get_instance().recommend(Request(\n",
        "    userId=1,\n",
        "    movieIds=[],\n",
        "    genres=[],\n",
        "    model=\"DLRM\",\n",
        "    start=0,\n",
        "    count=None,\n",
        "    relation=\"and\",\n",
        "))"
      ]
    },
    {
      "cell_type": "code",
      "execution_count": null,
      "metadata": {},
      "outputs": [],
      "source": [
        "from core.suggester import load_suggester\n",
        "suggester = load_suggester()"
      ]
    },
    {
      "cell_type": "code",
      "execution_count": null,
      "metadata": {},
      "outputs": [],
      "source": [
        "movieIds = suggester.suggest(10,30,genres=[\"Fantasy\"],relation=\"or\",add_closest_users=True,deterministic=False)\n",
        "ratings.loc[ratings.movie.isin(movieIds)].movie_genres"
      ]
    },
    {
      "cell_type": "code",
      "execution_count": null,
      "metadata": {},
      "outputs": [],
      "source": [
        "movies, ratings = load_ds()\n",
        "movies, users, movie_cols, user_cols = preprocess(movies, ratings,keep_title=True,keep_genres=True)\n",
        "(movie_cat_cols, movie_num_cols), (user_cat_cols, user_num_cols) = movie_cols, user_cols\n",
        "\n",
        "n_users = users.user.nunique()\n",
        "n_movies = movies.movie.nunique()"
      ]
    },
    {
      "cell_type": "code",
      "execution_count": null,
      "metadata": {},
      "outputs": [],
      "source": [
        "all_genres = exclude(movie_cat_cols,\"movie\",\"year_bin\")\n",
        "count1 = movies[all_genres].astype(int).sum().values\n",
        "count2 = movies[all_genres].loc[movies.movie_avg_rating>0].astype(int).sum().values\n",
        "counts = pd.DataFrame(dict(genre=all_genres,all=count1,positive_rating=count2))\n",
        "counts.head(1)"
      ]
    },
    {
      "cell_type": "code",
      "execution_count": null,
      "metadata": {},
      "outputs": [],
      "source": [
        "def pie(count,labels,title=\"\",ax=None):\n",
        "    total = sum(count)\n",
        "    def my_fmt(x):\n",
        "        s = f'{x:.0f}%'\n",
        "        if x>5:\n",
        "            s += f\"\\n({total*x/100:.0f})\"\n",
        "        return s\n",
        "    if ax is None: ax = plt.subplot()\n",
        "    ax.pie(count, labels=labels, autopct=my_fmt)\n",
        "    ax.set_title(title)\n",
        "fig,axes = plt.subplots(1,2,figsize=(15,7))\n",
        "for i, ax in zip([\"all\", \"positive_rating\"], axes):\n",
        "    pie(counts[i], counts.genre, ax=ax)\n",
        "fig.suptitle(\"Genre distribution\");\n",
        "fig.tight_layout()"
      ]
    },
    {
      "cell_type": "code",
      "execution_count": null,
      "metadata": {},
      "outputs": [],
      "source": [
        "means = [movies.loc[(movies[g] == 1) & (movies.movie_avg_rating>0)].movie_avg_rating.mean() for g in all_genres]\n",
        "sns.barplot(pd.DataFrame(dict(avg_rating=means, labels=all_genres)),x=\"avg_rating\", y=\"labels\", palette=palette)\n",
        "plt.tight_layout()"
      ]
    },
    {
      "cell_type": "code",
      "execution_count": null,
      "metadata": {},
      "outputs": [],
      "source": [
        "_, (ax1,ax2) = plt.subplots(1,2,figsize=(15,5))\n",
        "sns.histplot(data=movies,x=\"movie_avg_rating\",ax=ax1)\n",
        "sns.histplot(data=ratings, x=\"rating\", kde=True, ax=ax2)\n",
        "plt.tight_layout()"
      ]
    },
    {
      "cell_type": "code",
      "execution_count": null,
      "metadata": {},
      "outputs": [],
      "source": [
        "nrated = (movies.movie_avg_rating > 0).rename(\"is_rated\").value_counts().reset_index()\n",
        "pie(nrated[\"count\"], nrated.is_rated,title=\"Movie with at least 1 rating.\")\n",
        "nrated"
      ]
    },
    {
      "cell_type": "code",
      "execution_count": null,
      "metadata": {},
      "outputs": [],
      "source": [
        "a = movies.year_bin.value_counts().sort_index().reset_index()\n",
        "pie(a[\"count\"],a.year_bin,\"Movies production year\")\n",
        "plt.tight_layout()"
      ]
    },
    {
      "cell_type": "code",
      "execution_count": null,
      "metadata": {},
      "outputs": [],
      "source": [
        "movieecols = exclude(movies.columns.tolist(), \"__movieId\", \"title\",\"genres\",\"main_genre\")\n",
        "user_colss = exclude(users.columns.tolist(), \"__userId\")"
      ]
    },
    {
      "cell_type": "code",
      "execution_count": null,
      "metadata": {},
      "outputs": [],
      "source": []
    },
    {
      "cell_type": "code",
      "execution_count": null,
      "metadata": {},
      "outputs": [],
      "source": []
    },
    {
      "cell_type": "code",
      "execution_count": null,
      "metadata": {},
      "outputs": [],
      "source": []
    }
  ],
  "metadata": {
    "kernelspec": {
      "display_name": "Python 3",
      "language": "python",
      "name": "python3"
    },
    "language_info": {
      "codemirror_mode": {
        "name": "ipython",
        "version": 3
      },
      "file_extension": ".py",
      "mimetype": "text/x-python",
      "name": "python",
      "nbconvert_exporter": "python",
      "pygments_lexer": "ipython3",
      "version": "3.9.5"
    }
  },
  "nbformat": 4,
  "nbformat_minor": 2
}
