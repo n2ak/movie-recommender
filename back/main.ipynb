{
 "cells": [
  {
   "cell_type": "code",
   "execution_count": null,
   "metadata": {},
   "outputs": [],
   "source": [
    "import numpy as np\n",
    "\n",
    "import pandas as pd"
   ]
  },
  {
   "cell_type": "code",
   "execution_count": null,
   "metadata": {},
   "outputs": [],
   "source": [
    "from bs4 import BeautifulSoup\n",
    "import requests\n",
    "def url(id):\n",
    "    return f\"https://www.imdb.com/title/tt{id:07d}/\"\n",
    "def get(id):\n",
    "    try:\n",
    "        u = url(id)\n",
    "        resp = requests.get(u,headers={\n",
    "            \"User-Agent\":\"Mozilla/5.0 (Windows NT 10.0; Win64; x64) AppleWebKit/537.36 (KHTML, like Gecko) Chrome/128.0.0.0 Safari/537.36\"\n",
    "        })\n",
    "        if resp.status_code != 200:\n",
    "            # print(resp.content.decode())\n",
    "            return (id,-1)\n",
    "        soup = BeautifulSoup(resp.content.decode())\n",
    "        [div] = soup.find_all(\"div\", {\n",
    "            \"class\": \"sc-491663c0-7 dUfBfF\"\n",
    "        })\n",
    "        [img] = div.findAll(\"img\")\n",
    "        return img[\"src\"]\n",
    "    except Exception as e:\n",
    "        return (id,-1)\n",
    "        raise e\n",
    "    return (id,-1)\n",
    "url(114709)"
   ]
  },
  {
   "cell_type": "code",
   "execution_count": null,
   "metadata": {},
   "outputs": [],
   "source": []
  },
  {
   "cell_type": "code",
   "execution_count": null,
   "metadata": {},
   "outputs": [],
   "source": [
    "from filldb import read_df\n",
    "ratings = read_df(\"kek\")"
   ]
  },
  {
   "cell_type": "code",
   "execution_count": 8,
   "metadata": {},
   "outputs": [],
   "source": []
  },
  {
   "cell_type": "code",
   "execution_count": 15,
   "metadata": {},
   "outputs": [
    {
     "data": {
      "text/plain": [
       "Timestamp('2001-07-07 13:14:25')"
      ]
     },
     "execution_count": 15,
     "metadata": {},
     "output_type": "execute_result"
    }
   ],
   "source": []
  },
  {
   "cell_type": "code",
   "execution_count": null,
   "metadata": {},
   "outputs": [],
   "source": [
    "def plot(losses, stds, f1):\n",
    "    ax1, ax2, ax3 = axes = plt.subplots(1, 3, figsize=(10, 3))[1]\n",
    "    for ax, title, arr in zip(axes, [\"Loss\", \"F1\", \"Std\"], [losses, f1, stds]):\n",
    "        ax.plot(arr, label=title)\n",
    "        ax.set_ylim([0, None])\n",
    "        ax.legend()\n",
    "    ax2.set_ylim([0, 1])\n",
    "    plt.plot()"
   ]
  },
  {
   "cell_type": "code",
   "execution_count": null,
   "metadata": {},
   "outputs": [],
   "source": [
    "def predict(model,ratings):\n",
    "    userIds = [0,1,2,3]\n",
    "    movieIds = [1,30,177,10]\n",
    "    _userIds = torch.repeat_interleave(torch.tensor(userIds), len(movieIds)).tolist()\n",
    "\n",
    "    pred,_,_ = model.forward(torch.tensor(userIds),torch.tensor(movieIds))\n",
    "    pred = (pred*2).round()/2\n",
    "    df = pd.DataFrame({\"userId\":_userIds ,\"movieId\": movieIds*len(userIds), \"pred_rating\": pred.flatten().tolist()})\n",
    "\n",
    "    df = df.merge(ratings.loc[ratings.userId.isin(userIds)].loc[ratings.movieId.isin(movieIds)][[\"movieId\",\"rating\",\"userId\"]],\n",
    "            on=[\"userId\",\"movieId\"],how=\"outer\")\n",
    "    return df"
   ]
  },
  {
   "cell_type": "code",
   "execution_count": null,
   "metadata": {},
   "outputs": [],
   "source": []
  },
  {
   "cell_type": "code",
   "execution_count": null,
   "metadata": {},
   "outputs": [],
   "source": []
  },
  {
   "cell_type": "code",
   "execution_count": null,
   "metadata": {},
   "outputs": [],
   "source": [
    "from filldb import read_df\n",
    "ratings = read_df(\"\")\n",
    "total_ratings = ratings[[\"userId\", \"imdbId\"]].groupby(\"imdbId\").count().reset_index().rename(columns={\"userId\": \"total_ratings\", \"imdbId\": \"imdbId\"},)\n",
    "ratings = ratings.merge(total_ratings, on=\"imdbId\").reset_index(drop=True)\n",
    "ratings"
   ]
  },
  {
   "cell_type": "code",
   "execution_count": null,
   "metadata": {},
   "outputs": [],
   "source": []
  },
  {
   "cell_type": "code",
   "execution_count": null,
   "metadata": {},
   "outputs": [],
   "source": [
    "ratings[[\"userId\",\"movieId\",\"rating\"]].groupby(\"movieId\").mean()"
   ]
  }
 ],
 "metadata": {
  "kernelspec": {
   "display_name": "Python 3",
   "language": "python",
   "name": "python3"
  },
  "language_info": {
   "codemirror_mode": {
    "name": "ipython",
    "version": 3
   },
   "file_extension": ".py",
   "mimetype": "text/x-python",
   "name": "python",
   "nbconvert_exporter": "python",
   "pygments_lexer": "ipython3",
   "version": "3.9.5"
  }
 },
 "nbformat": 4,
 "nbformat_minor": 2
}
