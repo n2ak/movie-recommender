{
 "cells": [
  {
   "cell_type": "code",
   "execution_count": 1,
   "id": "34704d4d",
   "metadata": {},
   "outputs": [],
   "source": [
    "%load_ext autoreload\n",
    "%autoreload 2\n",
    "\n",
    "import os,sys\n",
    "sys.path.append(os.path.abspath(\"..\"))\n",
    "sys.path.append(os.path.abspath(\"../..\"))\n",
    "sys.path.append(os.path.abspath(\"../training\"))"
   ]
  },
  {
   "cell_type": "code",
   "execution_count": 2,
   "id": "8cb0cdfd",
   "metadata": {},
   "outputs": [],
   "source": [
    "import os\n",
    "os.environ[\"EXP_NAME\"] = \"movie_recom\"\n",
    "os.environ[\"MAX_RATING\"] = \"5\"\n",
    "os.environ[\"MLFLOW_TRACKING_URI\"] = \"http://localhost:8081\"\n",
    "os.environ[\"EPOCH\"] = \"2\"\n",
    "\n",
    "os.environ[\"AWS_DEFAULT_REGION\"] = \"us-east-1\"\n",
    "os.environ[\"AWS_ACCESS_KEY_ID\"] = \"minio\"\n",
    "os.environ[\"AWS_SECRET_ACCESS_KEY\"] = \"minio123\"\n",
    "os.environ[\"MLFLOW_S3_ENDPOINT_URL\"] = \"http://localhost:9000\""
   ]
  },
  {
   "cell_type": "code",
   "execution_count": 3,
   "id": "1a385459",
   "metadata": {},
   "outputs": [
    {
     "name": "stdout",
     "output_type": "stream",
     "text": [
      "Secure False\n",
      "endpoint http://localhost:9000\n",
      "Connected to minio on: http://localhost:9000\n",
      "Available Buckets [Bucket('mlflowbucket'), Bucket('trainingbucket')]\n",
      "Connected to mlflow on: http://localhost:8081\n"
     ]
    }
   ],
   "source": [
    "from training.xgb import main, test_xgb_model\n",
    "from movie_recommender.workflow import read_parquet_from_s3, connect_minio,connect_mlflow\n",
    "\n",
    "DB_MINIO_BUCKET = \"trainingbucket\"\n",
    "connect_minio()\n",
    "connect_mlflow()"
   ]
  },
  {
   "cell_type": "code",
   "execution_count": 4,
   "id": "d7ff84d8",
   "metadata": {},
   "outputs": [],
   "source": [
    "ratings = read_parquet_from_s3(DB_MINIO_BUCKET, \"ratings.parquet\")\n",
    "movies = read_parquet_from_s3(DB_MINIO_BUCKET, \"movies.parquet\")\n",
    "ratings = ratings.merge(movies, on=\"movie_id\")\n",
    "ratings.rating *= 5"
   ]
  },
  {
   "cell_type": "code",
   "execution_count": 5,
   "id": "45cbd386",
   "metadata": {},
   "outputs": [
    {
     "name": "stderr",
     "output_type": "stream",
     "text": [
      "[I 2025-09-20 11:58:48,772] A new study created in memory with name: no-name-292826d1-8269-4dc4-a600-d8aa4cc54309\n"
     ]
    },
    {
     "name": "stdout",
     "output_type": "stream",
     "text": [
      "Running CV...\n"
     ]
    },
    {
     "data": {
      "application/vnd.jupyter.widget-view+json": {
       "model_id": "991c4346d10b4208b1ec84b54bd31be8",
       "version_major": 2,
       "version_minor": 0
      },
      "text/plain": [
       "  0%|          | 0/10 [00:00<?, ?it/s]"
      ]
     },
     "metadata": {},
     "output_type": "display_data"
    },
    {
     "name": "stdout",
     "output_type": "stream",
     "text": [
      "[0.805154   0.80137545 0.7591083  0.8116316  0.8245758  0.7021182\n",
      " 0.7140878  0.706629   0.99238926 0.9925022 ]\n",
      "Pred mean: 0.71 , std: 0.15\n",
      "[0.7144053  0.796328   0.7153227  0.9034942  0.8554294  0.5204804\n",
      " 0.7903971  0.6255897  0.73666865 0.7384317 ]\n",
      "Pred mean: 0.70 , std: 0.15\n",
      "[0.79828954 0.78987336 0.8530689  0.8045417  0.79974777 0.9935446\n",
      " 0.60085666 0.8120242  0.73317313 0.80524397]\n",
      "Pred mean: 0.71 , std: 0.15\n",
      "[I 2025-09-20 11:58:58,929] Trial 0 finished with value: 0.14200381698904377 and parameters: {'objective': 'reg:squarederror', 'device': 'cuda', 'random_state': 0, 'eval_metric': 'mae', 'booster': 'gbtree', 'max_depth': 8, 'learning_rate': 0.03369051835914927, 'subsample': 0.6121776513465201, 'colsample_bytree': 0.9183124180871549, 'gamma': 0.3448541904469965, 'lambda': 0.01893940565537754, 'alpha': 0.004333934729622851}. Best is trial 0 with value: 0.14200381698904377.\n",
      "[0.7936685  0.7911262  0.7529904  0.80201715 0.81250364 0.70227814\n",
      " 0.7245163  0.7089904  0.9747189  0.9791684 ]\n",
      "Pred mean: 0.71 , std: 0.14\n",
      "[0.7050284  0.7883053  0.7016257  0.8956076  0.8489624  0.51699007\n",
      " 0.79941213 0.6716196  0.72712725 0.73458755]\n",
      "Pred mean: 0.71 , std: 0.14\n",
      "[0.7796845  0.77400124 0.8425582  0.8009877  0.7952926  0.9780379\n",
      " 0.6248614  0.85579693 0.72673005 0.8083243 ]\n",
      "Pred mean: 0.71 , std: 0.14\n",
      "[I 2025-09-20 11:59:08,728] Trial 1 finished with value: 0.13993490881075113 and parameters: {'objective': 'reg:squarederror', 'device': 'cuda', 'random_state': 0, 'eval_metric': 'mae', 'booster': 'gbtree', 'max_depth': 6, 'learning_rate': 0.028941350548110773, 'subsample': 0.9658476647840513, 'colsample_bytree': 0.902684707278183, 'gamma': 3.9424855804982895, 'lambda': 0.006431948089572301, 'alpha': 0.0017450872571807105}. Best is trial 1 with value: 0.13993490881075113.\n",
      "[0.79815733 0.7944736  0.75147855 0.804091   0.8163538  0.70172364\n",
      " 0.71739393 0.70685846 0.97922933 0.9818021 ]\n",
      "Pred mean: 0.71 , std: 0.15\n",
      "[0.70674664 0.78840023 0.7037731  0.8959093  0.8533457  0.51436555\n",
      " 0.8017755  0.66523135 0.7374279  0.7364394 ]\n",
      "Pred mean: 0.71 , std: 0.15\n",
      "[0.78909403 0.7794461  0.8493391  0.7985812  0.798332   0.9812707\n",
      " 0.61305183 0.86269164 0.74035347 0.8098375 ]\n",
      "Pred mean: 0.71 , std: 0.15\n",
      "[I 2025-09-20 11:59:19,176] Trial 2 finished with value: 0.14065543671772682 and parameters: {'objective': 'reg:squarederror', 'device': 'cuda', 'random_state': 0, 'eval_metric': 'mae', 'booster': 'gbtree', 'max_depth': 9, 'learning_rate': 0.02605358922376191, 'subsample': 0.6514980181597989, 'colsample_bytree': 0.9847542288388889, 'gamma': 1.4643098091666489, 'lambda': 0.09067168849404118, 'alpha': 2.2858886747659897}. Best is trial 1 with value: 0.13993490881075113.\n",
      "[0.80120325 0.8009572  0.76479894 0.8120885  0.824479   0.7002338\n",
      " 0.7195597  0.7077914  0.99964213 1.005547  ]\n",
      "Pred mean: 0.71 , std: 0.14\n",
      "[0.7296705  0.80025166 0.73020715 0.917252   0.83164006 0.5221468\n",
      " 0.7928101  0.6850398  0.7170604  0.71945524]\n",
      "Pred mean: 0.70 , std: 0.14\n",
      "[0.78957725 0.7832118  0.8610104  0.82592475 0.78905123 1.0064071\n",
      " 0.6159908  0.77030194 0.71288866 0.811566  ]\n",
      "Pred mean: 0.70 , std: 0.15\n",
      "[I 2025-09-20 11:59:28,992] Trial 3 finished with value: 0.14068112196277918 and parameters: {'objective': 'reg:squarederror', 'device': 'cuda', 'random_state': 0, 'eval_metric': 'mae', 'booster': 'gbtree', 'max_depth': 7, 'learning_rate': 0.03329781359426852, 'subsample': 0.607064370182862, 'colsample_bytree': 0.5816590252951139, 'gamma': 1.5899512857116465, 'lambda': 0.02006410979012164, 'alpha': 1.6947893707907808}. Best is trial 1 with value: 0.13993490881075113.\n",
      "[0.80502146 0.79905945 0.76798844 0.81443757 0.8384729  0.6984485\n",
      " 0.72041625 0.7051274  0.99082804 0.99753094]\n",
      "Pred mean: 0.71 , std: 0.15\n",
      "[0.70677435 0.80347157 0.7053545  0.8994998  0.8513068  0.51333773\n",
      " 0.7809572  0.6412089  0.70971656 0.72163755]\n",
      "Pred mean: 0.70 , std: 0.15\n",
      "[0.7978324  0.7885019  0.8534683  0.8146972  0.80064774 1.0002432\n",
      " 0.61703324 0.74743116 0.72031665 0.8040942 ]\n",
      "Pred mean: 0.70 , std: 0.15\n",
      "[I 2025-09-20 11:59:38,143] Trial 4 finished with value: 0.14209973589062286 and parameters: {'objective': 'reg:squarederror', 'device': 'cuda', 'random_state': 0, 'eval_metric': 'mae', 'booster': 'gbtree', 'max_depth': 4, 'learning_rate': 0.06603608386346797, 'subsample': 0.599024214743477, 'colsample_bytree': 0.6393522089446515, 'gamma': 0.27996771152697997, 'lambda': 0.0016012945584471584, 'alpha': 0.002328798623050634}. Best is trial 1 with value: 0.13993490881075113.\n",
      "[0.7984446  0.79625064 0.76026934 0.80713224 0.81776935 0.7032612\n",
      " 0.72649544 0.7086715  0.98941606 0.9919234 ]\n",
      "Pred mean: 0.71 , std: 0.14\n",
      "[0.7168033  0.7927169  0.71566164 0.91196156 0.83951145 0.5227076\n",
      " 0.7956038  0.67604667 0.7181215  0.72729343]\n",
      "Pred mean: 0.70 , std: 0.14\n",
      "[0.78571904 0.78243595 0.84906095 0.8120154  0.77717584 0.99673694\n",
      " 0.62206775 0.8014581  0.7247216  0.80791646]\n",
      "Pred mean: 0.70 , std: 0.14\n",
      "[I 2025-09-20 11:59:49,790] Trial 5 finished with value: 0.1400871022671732 and parameters: {'objective': 'reg:squarederror', 'device': 'cuda', 'random_state': 0, 'eval_metric': 'mae', 'booster': 'gbtree', 'max_depth': 10, 'learning_rate': 0.015030171386290968, 'subsample': 0.5963479725987416, 'colsample_bytree': 0.7659587519291239, 'gamma': 2.403619080165771, 'lambda': 0.5519873161733511, 'alpha': 0.22696795266897798}. Best is trial 1 with value: 0.13993490881075113.\n",
      "[0.7926162 0.7926162 0.772464  0.8107185 0.824864  0.7070385 0.7273867\n",
      " 0.7181466 1.0051769 1.0071461]\n",
      "Pred mean: 0.71 , std: 0.14\n",
      "[0.72535115 0.79169196 0.72387743 0.9233445  0.8230647  0.5377858\n",
      " 0.7953849  0.6760435  0.7117902  0.7143858 ]\n",
      "Pred mean: 0.70 , std: 0.14\n",
      "[0.7835585  0.78095895 0.8468028  0.80783343 0.78720057 1.0081923\n",
      " 0.62188756 0.7802357  0.70194113 0.8120772 ]\n",
      "Pred mean: 0.70 , std: 0.14\n",
      "[I 2025-09-20 11:59:59,044] Trial 6 finished with value: 0.14074585255678726 and parameters: {'objective': 'reg:squarederror', 'device': 'cuda', 'random_state': 0, 'eval_metric': 'mae', 'booster': 'gbtree', 'max_depth': 6, 'learning_rate': 0.07262491181882932, 'subsample': 0.7409237870804317, 'colsample_bytree': 0.6982081978098384, 'gamma': 2.7539800379551425, 'lambda': 0.16515007718808739, 'alpha': 1.884099733659502}. Best is trial 1 with value: 0.13993490881075113.\n",
      "[0.8004935  0.7973905  0.749241   0.80371    0.8133146  0.69975334\n",
      " 0.7216174  0.7052338  0.98195684 0.9831126 ]\n",
      "Pred mean: 0.71 , std: 0.15\n",
      "[0.7033643  0.7900645  0.70295024 0.89782166 0.85128105 0.5220115\n",
      " 0.79910356 0.64381194 0.7426768  0.73851   ]\n",
      "Pred mean: 0.71 , std: 0.15\n",
      "[0.78958285 0.78083014 0.850874   0.8002269  0.7975621  0.982901\n",
      " 0.615087   0.86373717 0.7392994  0.8099747 ]\n",
      "Pred mean: 0.71 , std: 0.15\n",
      "[I 2025-09-20 12:00:10,297] Trial 7 finished with value: 0.14099889138998786 and parameters: {'objective': 'reg:squarederror', 'device': 'cuda', 'random_state': 0, 'eval_metric': 'mae', 'booster': 'gbtree', 'max_depth': 6, 'learning_rate': 0.03988823746616347, 'subsample': 0.5666408107557361, 'colsample_bytree': 0.9920585326471456, 'gamma': 1.1500142653236411, 'lambda': 0.132333199384828, 'alpha': 0.01845788813637993}. Best is trial 1 with value: 0.13993490881075113.\n",
      "[0.7934903  0.74423486 0.7247303  0.8032971  0.8266045  0.7038114\n",
      " 0.7253599  0.7066401  0.99414635 1.0026975 ]\n",
      "Pred mean: 0.71 , std: 0.15\n",
      "[0.70926565 0.7941213  0.7052054  0.9116808  0.8248691  0.5247663\n",
      " 0.79870933 0.6706533  0.69291365 0.733314  ]\n",
      "Pred mean: 0.70 , std: 0.15\n",
      "[0.7737412  0.7737412  0.8510442  0.8172626  0.76002795 1.0053653\n",
      " 0.60122645 0.7452353  0.6892986  0.7918914 ]\n",
      "Pred mean: 0.70 , std: 0.15\n",
      "[I 2025-09-20 12:00:18,955] Trial 8 finished with value: 0.1412826113500751 and parameters: {'objective': 'reg:squarederror', 'device': 'cuda', 'random_state': 0, 'eval_metric': 'mae', 'booster': 'gbtree', 'max_depth': 10, 'learning_rate': 0.22599583051685593, 'subsample': 0.5276297073659117, 'colsample_bytree': 0.6206159382106882, 'gamma': 1.3974816609190344, 'lambda': 2.0298104574618887, 'alpha': 0.0535676878085869}. Best is trial 1 with value: 0.13993490881075113.\n",
      "[0.79893875 0.79617345 0.7506957  0.8020658  0.8139905  0.69919187\n",
      " 0.72260773 0.70600533 0.98056054 0.9816619 ]\n",
      "Pred mean: 0.71 , std: 0.15\n",
      "[0.7027847  0.7872944  0.7027847  0.89734864 0.85079557 0.5111391\n",
      " 0.80059326 0.6633949  0.7382164  0.73772854]\n",
      "Pred mean: 0.71 , std: 0.15\n",
      "[0.7873112  0.7819319  0.8494167  0.7962532  0.79726416 0.97934014\n",
      " 0.6154329  0.86877257 0.74322045 0.8114681 ]\n",
      "Pred mean: 0.71 , std: 0.15\n",
      "[I 2025-09-20 12:00:28,379] Trial 9 finished with value: 0.14069691632838044 and parameters: {'objective': 'reg:squarederror', 'device': 'cuda', 'random_state': 0, 'eval_metric': 'mae', 'booster': 'gbtree', 'max_depth': 6, 'learning_rate': 0.03909575302036776, 'subsample': 0.5075520689743401, 'colsample_bytree': 0.9837561838396496, 'gamma': 1.4269668738172463, 'lambda': 0.8810624160168766, 'alpha': 0.007368593936751514}. Best is trial 1 with value: 0.13993490881075113.\n",
      "Found best params: {'objective': 'reg:squarederror', 'device': 'cuda', 'random_state': 0, 'eval_metric': 'mae', 'booster': 'gbtree', 'max_depth': 6, 'learning_rate': 0.028941350548110773, 'subsample': 0.9658476647840513, 'colsample_bytree': 0.902684707278183, 'gamma': 3.9424855804982895, 'lambda': 0.006431948089572301, 'alpha': 0.0017450872571807105}\n",
      "[0]\ttrain-mae:0.16002\tval-mae:0.15699\n",
      "[548]\ttrain-mae:0.09304\tval-mae:0.13957\n"
     ]
    },
    {
     "name": "stderr",
     "output_type": "stream",
     "text": [
      "[INFO] - Run id: 195c47d226294d6ca77a09dff63f6bfb\n"
     ]
    },
    {
     "name": "stdout",
     "output_type": "stream",
     "text": [
      "Found most impactful features: ['movie_avg_rating', 'mean_Action', 'mean_Thriller', 'mean_Drama', 'mean_Comedy', 'user_avg_rating']\n",
      "\n",
      "Training XGBMR...\n",
      "[0]\ttrain-mae:0.16002\tval-mae:0.15699\n",
      "[500]\ttrain-mae:0.09365\tval-mae:0.13925\n",
      "[550]\ttrain-mae:0.09365\tval-mae:0.13925\n"
     ]
    },
    {
     "name": "stderr",
     "output_type": "stream",
     "text": [
      "2025/09/20 12:00:34 WARNING mlflow.models.model: `artifact_path` is deprecated. Please use `name` instead.\n",
      "2025/09/20 12:00:34 WARNING mlflow.utils.autologging_utils: MLflow autologging encountered a warning: \"/home/phantom/miniconda3/envs/cudatorch/lib/python3.12/site-packages/mlflow/xgboost/__init__.py:169: UserWarning: [12:00:34] WARNING: /workspace/src/c_api/c_api.cc:1427: Saving model in the UBJSON format as default.  You can use file extension: `json`, `ubj` or `deprecated` to choose between formats.\"\n",
      "[INFO] - Logging artifacts.\n",
      "[INFO] - Done training.\n"
     ]
    },
    {
     "name": "stdout",
     "output_type": "stream",
     "text": [
      "Logging folder /tmp/tmph5dnf_3e\n",
      "🏃 View run secretive-sow-468 at: http://localhost:8081/#/experiments/1/runs/195c47d226294d6ca77a09dff63f6bfb\n",
      "🧪 View experiment at: http://localhost:8081/#/experiments/1\n"
     ]
    },
    {
     "name": "stderr",
     "output_type": "stream",
     "text": [
      "Registered model 'xgb' already exists. Creating a new version of this model...\n",
      "2025/09/20 12:00:39 INFO mlflow.store.model_registry.abstract_store: Waiting up to 300 seconds for model version to finish creation. Model name: xgb, version 10\n",
      "Created version '10' of model 'xgb'.\n"
     ]
    },
    {
     "name": "stdout",
     "output_type": "stream",
     "text": [
      "metrics {'train-mae': 0.10159176049064735, 'val-mae': 0.1373481480212674, 'stopped_iteration': 514.0, 'best_iteration': 14.0}\n",
      "Champion 'val-mae': 0.1373, Latest 'val-mae': 0.1381\n",
      "No new champion for 'xgb'\n",
      "\n",
      "Saving plots...\n",
      "Training\n",
      "0.1524721 0.7124303\n",
      "[0.6463927  0.7931963  0.66872764 ... 0.8126988  0.9734222  0.9016125 ]\n",
      "True  : mean 3.562, std 1.054\n",
      "Pred  : mean 3.562, std 0.762\n",
      "MAE   : 0.4682349965935481\n",
      "Error : mean 0.000, std 0.659\n",
      "Test\n",
      "0.14113747 0.70774657\n",
      "[0.9713957  0.8450908  0.50933886 ... 0.7444314  0.6746332  0.7556304 ]\n",
      "True  : mean 3.534, std 1.033\n",
      "Pred  : mean 3.539, std 0.706\n",
      "MAE   : 0.6962752185193702\n",
      "Error : mean -0.005, std 0.943\n",
      "Logging folder /tmp/tmp2q80nc9f\n"
     ]
    }
   ],
   "source": [
    "booster = main(ratings,n_trials=10)"
   ]
  },
  {
   "cell_type": "code",
   "execution_count": 7,
   "id": "92c49323",
   "metadata": {},
   "outputs": [
    {
     "data": {
      "application/vnd.jupyter.widget-view+json": {
       "model_id": "1c4e7259942f46098432b602c5740dae",
       "version_major": 2,
       "version_minor": 0
      },
      "text/plain": [
       "Downloading artifacts:   0%|          | 0/5 [00:00<?, ?it/s]"
      ]
     },
     "metadata": {},
     "output_type": "display_data"
    },
    {
     "name": "stdout",
     "output_type": "stream",
     "text": [
      "XGB loaded on device: cuda\n",
      "Getting artifacts, run_id='195c47d226294d6ca77a09dff63f6bfb', artifact_path='resources'\n"
     ]
    },
    {
     "name": "stderr",
     "output_type": "stream",
     "text": [
      "/home/phantom/git/n2ak/movie_recommender/backend/movie_recommender/workflow.py:114: FutureWarning: ``mlflow.tracking.client.MlflowClient.get_latest_versions`` is deprecated since 2.9.0. Model registry stages will be removed in a future major release. To learn more about the deprecation of model registry stages, see our migration guide here: https://mlflow.org/docs/latest/model-registry.html#migrating-from-stages\n",
      "  return _mlflowClient.get_latest_versions(registered_name)[0].run_id\n"
     ]
    },
    {
     "data": {
      "application/vnd.jupyter.widget-view+json": {
       "model_id": "5d3266caad434c78b8a086387d01ed75",
       "version_major": 2,
       "version_minor": 0
      },
      "text/plain": [
       "Downloading artifacts:   0%|          | 0/2 [00:00<?, ?it/s]"
      ]
     },
     "metadata": {},
     "output_type": "display_data"
    },
    {
     "name": "stderr",
     "output_type": "stream",
     "text": [
      "[INFO] - Loaded champion model, registered_name='xgb'\n"
     ]
    },
    {
     "name": "stdout",
     "output_type": "stream",
     "text": [
      "0.031598747 0.76028055\n",
      "[0.78433657 0.76825815 0.7065908  0.7819369 ]\n"
     ]
    }
   ],
   "source": [
    "test_xgb_model()"
   ]
  },
  {
   "cell_type": "code",
   "execution_count": 8,
   "id": "cc95a0c4",
   "metadata": {},
   "outputs": [],
   "source": [
    "# from training.xgb import save_plots, XGBMR, prepare, simple_split, MovieLensPreprocessor\n",
    "# model = XGBMR.load_model(champion=False, device=\"cuda\")\n",
    "# train, test = simple_split(ratings.copy(), .8)"
   ]
  },
  {
   "cell_type": "code",
   "execution_count": 9,
   "id": "82e7b48f",
   "metadata": {},
   "outputs": [],
   "source": [
    "# processor = MovieLensPreprocessor().fit(train)\n",
    "# X_train, X_test, y_train, y_test = processor.do_transform(train, test)\n",
    "# save_plots(\n",
    "#     model,\n",
    "#     prepare(X_train[model.cols], y_train),\n",
    "#     prepare(X_test[model.cols], y_test),\n",
    "#     max_rating=5,\n",
    "#     run_id=\"26161cc8ad064fc18105ecb7a51da4ce\",\n",
    "# )"
   ]
  }
 ],
 "metadata": {
  "kernelspec": {
   "display_name": "cudatorch",
   "language": "python",
   "name": "python3"
  },
  "language_info": {
   "codemirror_mode": {
    "name": "ipython",
    "version": 3
   },
   "file_extension": ".py",
   "mimetype": "text/x-python",
   "name": "python",
   "nbconvert_exporter": "python",
   "pygments_lexer": "ipython3",
   "version": "3.12.11"
  }
 },
 "nbformat": 4,
 "nbformat_minor": 5
}
