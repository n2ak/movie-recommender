{
 "cells": [
  {
   "cell_type": "code",
   "execution_count": 1,
   "id": "34704d4d",
   "metadata": {},
   "outputs": [],
   "source": [
    "%load_ext autoreload\n",
    "%autoreload 2\n",
    "\n",
    "import os,sys\n",
    "sys.path.append(os.path.abspath(\"..\"))\n",
    "sys.path.append(os.path.abspath(\"../..\"))\n",
    "sys.path.append(os.path.abspath(\"../training\"))"
   ]
  },
  {
   "cell_type": "code",
   "execution_count": 2,
   "id": "8cb0cdfd",
   "metadata": {},
   "outputs": [],
   "source": [
    "import os\n",
    "os.environ[\"EXP_NAME\"] = \"movie_recom\"\n",
    "os.environ[\"MAX_RATING\"] = \"5\"\n",
    "os.environ[\"MLFLOW_TRACKING_URI\"] = \"http://localhost:8081\"\n",
    "os.environ[\"EPOCH\"] = \"2\"\n",
    "\n",
    "os.environ[\"AWS_DEFAULT_REGION\"] = \"us-east-1\"\n",
    "os.environ[\"AWS_ACCESS_KEY_ID\"] = \"minio\"\n",
    "os.environ[\"AWS_SECRET_ACCESS_KEY\"] = \"minio123\"\n",
    "os.environ[\"MLFLOW_S3_ENDPOINT_URL\"] = \"http://localhost:9000\""
   ]
  },
  {
   "cell_type": "code",
   "execution_count": 3,
   "id": "1a385459",
   "metadata": {},
   "outputs": [],
   "source": [
    "from workflow.dags.extract import extract_data\n",
    "from workflow.dags.transform import process_data\n",
    "from training.xgb import train_xgb, test_xgb_model, download_parquet_from_s3"
   ]
  },
  {
   "cell_type": "code",
   "execution_count": null,
   "id": "d7ff84d8",
   "metadata": {},
   "outputs": [],
   "source": [
    "extract_data()\n",
    "process_data(\"xgb\")"
   ]
  },
  {
   "cell_type": "code",
   "execution_count": 5,
   "id": "45cbd386",
   "metadata": {},
   "outputs": [
    {
     "name": "stdout",
     "output_type": "stream",
     "text": [
      "Secure False\n",
      "\n",
      "Available Buckets [Bucket('mlflowbucket'), Bucket('trainingbucket')]\n",
      "Connected to minio on: http://localhost:9000\n"
     ]
    }
   ],
   "source": [
    "train, test = download_parquet_from_s3(\n",
    "    os.environ[\"DB_MINIO_BUCKET\"], \"xgb_train\", \"xgb_test\")"
   ]
  },
  {
   "cell_type": "code",
   "execution_count": 6,
   "id": "6d41c589",
   "metadata": {},
   "outputs": [
    {
     "data": {
      "text/html": [
       "<div>\n",
       "<style scoped>\n",
       "    .dataframe tbody tr th:only-of-type {\n",
       "        vertical-align: middle;\n",
       "    }\n",
       "\n",
       "    .dataframe tbody tr th {\n",
       "        vertical-align: top;\n",
       "    }\n",
       "\n",
       "    .dataframe thead th {\n",
       "        text-align: right;\n",
       "    }\n",
       "</style>\n",
       "<table border=\"1\" class=\"dataframe\">\n",
       "  <thead>\n",
       "    <tr style=\"text-align: right;\">\n",
       "      <th></th>\n",
       "      <th>rating</th>\n",
       "      <th>movie_id</th>\n",
       "      <th>user_id</th>\n",
       "      <th>movie_year</th>\n",
       "      <th>movie_mean_rating</th>\n",
       "      <th>movie_total_rating</th>\n",
       "      <th>user_mean_rating</th>\n",
       "      <th>user_total_rating</th>\n",
       "    </tr>\n",
       "  </thead>\n",
       "  <tbody>\n",
       "    <tr>\n",
       "      <th>45073</th>\n",
       "      <td>0.3</td>\n",
       "      <td>2524</td>\n",
       "      <td>11364</td>\n",
       "      <td>0.348853</td>\n",
       "      <td>-4.117393</td>\n",
       "      <td>-0.803621</td>\n",
       "      <td>-0.327056</td>\n",
       "      <td>0.406923</td>\n",
       "    </tr>\n",
       "  </tbody>\n",
       "</table>\n",
       "</div>"
      ],
      "text/plain": [
       "       rating  movie_id  user_id  movie_year  movie_mean_rating  \\\n",
       "45073     0.3      2524    11364    0.348853          -4.117393   \n",
       "\n",
       "       movie_total_rating  user_mean_rating  user_total_rating  \n",
       "45073           -0.803621         -0.327056           0.406923  "
      ]
     },
     "execution_count": 6,
     "metadata": {},
     "output_type": "execute_result"
    }
   ],
   "source": [
    "train.head(1)"
   ]
  },
  {
   "cell_type": "code",
   "execution_count": null,
   "id": "3a59107f",
   "metadata": {},
   "outputs": [],
   "source": [
    "train_xgb(\n",
    "    train,test,\n",
    "    5,\"movie_recom\",\n",
    "    False,1000,\n",
    ")                                                                  "
   ]
  },
  {
   "cell_type": "code",
   "execution_count": 9,
   "id": "92c49323",
   "metadata": {},
   "outputs": [
    {
     "data": {
      "application/vnd.jupyter.widget-view+json": {
       "model_id": "be6aeac0a01f45c49a5f5e1f3cf1f54b",
       "version_major": 2,
       "version_minor": 0
      },
      "text/plain": [
       "Downloading artifacts:   0%|          | 0/5 [00:00<?, ?it/s]"
      ]
     },
     "metadata": {},
     "output_type": "display_data"
    },
    {
     "name": "stderr",
     "output_type": "stream",
     "text": [
      "[INFO] - Recommender has been initialized\n"
     ]
    },
    {
     "data": {
      "application/vnd.jupyter.widget-view+json": {
       "model_id": "5ba14db876be4bcabc38c503bdf9b3f8",
       "version_major": 2,
       "version_minor": 0
      },
      "text/plain": [
       "Downloading artifacts:   0%|          | 0/5 [00:00<?, ?it/s]"
      ]
     },
     "metadata": {},
     "output_type": "display_data"
    },
    {
     "name": "stdout",
     "output_type": "stream",
     "text": [
      "XGB loaded on device: cpu\n",
      "Getting artifacts, run_id='5077af1e5e9945d8b88cb1940fd44c93', artifact_path='resources'\n"
     ]
    },
    {
     "data": {
      "application/vnd.jupyter.widget-view+json": {
       "model_id": "ab2e34dbce7b463cb5f7b45378feee08",
       "version_major": 2,
       "version_minor": 0
      },
      "text/plain": [
       "Downloading artifacts:   0%|          | 0/2 [00:00<?, ?it/s]"
      ]
     },
     "metadata": {},
     "output_type": "display_data"
    },
    {
     "name": "stderr",
     "output_type": "stream",
     "text": [
      "[INFO] - Loaded champion model, registered_name='xgb'\n"
     ]
    }
   ],
   "source": [
    "test_xgb_model()"
   ]
  }
 ],
 "metadata": {
  "kernelspec": {
   "display_name": "cudatorch",
   "language": "python",
   "name": "python3"
  },
  "language_info": {
   "codemirror_mode": {
    "name": "ipython",
    "version": 3
   },
   "file_extension": ".py",
   "mimetype": "text/x-python",
   "name": "python",
   "nbconvert_exporter": "python",
   "pygments_lexer": "ipython3",
   "version": "3.12.11"
  }
 },
 "nbformat": 4,
 "nbformat_minor": 5
}
