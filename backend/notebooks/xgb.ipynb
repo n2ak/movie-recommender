{
 "cells": [
  {
   "cell_type": "code",
   "execution_count": 6,
   "id": "34704d4d",
   "metadata": {},
   "outputs": [
    {
     "name": "stdout",
     "output_type": "stream",
     "text": [
      "The autoreload extension is already loaded. To reload it, use:\n",
      "  %reload_ext autoreload\n"
     ]
    }
   ],
   "source": [
    "%load_ext autoreload\n",
    "%autoreload 2\n",
    "\n",
    "import os,sys\n",
    "sys.path.append(os.path.abspath(\"..\"))\n",
    "sys.path.append(os.path.abspath(\"../..\"))\n",
    "sys.path.append(os.path.abspath(\"../training\"))"
   ]
  },
  {
   "cell_type": "code",
   "execution_count": 7,
   "id": "8cb0cdfd",
   "metadata": {},
   "outputs": [],
   "source": [
    "import os\n",
    "os.environ[\"EXP_NAME\"] = \"movie_recom\"\n",
    "os.environ[\"MAX_RATING\"] = \"5\"\n",
    "os.environ[\"MLFLOW_TRACKING_URI\"] = \"http://localhost:8081\"\n",
    "os.environ[\"EPOCH\"] = \"2\"\n",
    "\n",
    "os.environ[\"AWS_DEFAULT_REGION\"] = \"us-east-1\"\n",
    "os.environ[\"AWS_ACCESS_KEY_ID\"] = \"minio\"\n",
    "os.environ[\"AWS_SECRET_ACCESS_KEY\"] = \"minio123\"\n",
    "os.environ[\"MLFLOW_S3_ENDPOINT_URL\"] = \"http://localhost:9000\""
   ]
  },
  {
   "cell_type": "code",
   "execution_count": 8,
   "id": "1a385459",
   "metadata": {},
   "outputs": [
    {
     "name": "stdout",
     "output_type": "stream",
     "text": [
      "Available Buckets [Bucket('mlflowbucket'), Bucket('trainingbucket')]\n"
     ]
    }
   ],
   "source": [
    "from training.xgb import main, test_xgb_model\n",
    "from movie_recommender.workflow import read_parquet_from_s3, connect_minio,connect_mlflow\n",
    "\n",
    "DB_MINIO_BUCKET = \"trainingbucket\"\n",
    "connect_minio()\n",
    "connect_mlflow()"
   ]
  },
  {
   "cell_type": "code",
   "execution_count": 9,
   "id": "d7ff84d8",
   "metadata": {},
   "outputs": [],
   "source": [
    "ratings = read_parquet_from_s3(DB_MINIO_BUCKET, \"ratings.parquet\")\n",
    "movies = read_parquet_from_s3(DB_MINIO_BUCKET, \"movies.parquet\")\n",
    "ratings = ratings.merge(movies, on=\"movie_id\")\n",
    "ratings.rating *= 5"
   ]
  },
  {
   "cell_type": "code",
   "execution_count": 10,
   "id": "45cbd386",
   "metadata": {},
   "outputs": [
    {
     "name": "stderr",
     "output_type": "stream",
     "text": [
      "[I 2025-09-20 10:06:41,123] A new study created in memory with name: no-name-e289421d-b126-44db-8679-b3831ecc099d\n"
     ]
    },
    {
     "name": "stdout",
     "output_type": "stream",
     "text": [
      "Running CV...\n"
     ]
    },
    {
     "data": {
      "application/vnd.jupyter.widget-view+json": {
       "model_id": "aa620ea1a88f48c3b3c44f52f613a231",
       "version_major": 2,
       "version_minor": 0
      },
      "text/plain": [
       "  0%|          | 0/1 [00:00<?, ?it/s]"
      ]
     },
     "metadata": {},
     "output_type": "display_data"
    },
    {
     "name": "stdout",
     "output_type": "stream",
     "text": [
      "[I 2025-09-20 10:06:54,480] Trial 0 finished with value: 0.1415920460972587 and parameters: {'objective': 'reg:squarederror', 'device': 'cuda', 'random_state': 0, 'eval_metric': 'mae', 'booster': 'gbtree', 'max_depth': 6, 'learning_rate': 0.011892899714166807, 'subsample': 0.8981469364237483, 'colsample_bytree': 0.8583054839413833, 'gamma': 0.5573575579925505, 'lambda': 3.330146719411467, 'alpha': 0.0303607028072268}. Best is trial 0 with value: 0.1415920460972587.\n",
      "Found best params: {'objective': 'reg:squarederror', 'device': 'cuda', 'random_state': 0, 'eval_metric': 'mae', 'booster': 'gbtree', 'max_depth': 6, 'learning_rate': 0.011892899714166807, 'subsample': 0.8981469364237483, 'colsample_bytree': 0.8583054839413833, 'gamma': 0.5573575579925505, 'lambda': 3.330146719411467, 'alpha': 0.0303607028072268}\n",
      "[0]\ttrain-mae:0.16178\tval-mae:0.15802\n",
      "[619]\ttrain-mae:0.08837\tval-mae:0.14106\n"
     ]
    },
    {
     "name": "stderr",
     "output_type": "stream",
     "text": [
      "[INFO] - Run id: 26161cc8ad064fc18105ecb7a51da4ce\n"
     ]
    },
    {
     "name": "stdout",
     "output_type": "stream",
     "text": [
      "Found most impactful features: ['movie_avg_rating', 'mean_Drama', 'mean_Adventure', 'mean_Action', 'mean_Thriller', 'mean_Comedy', 'total_Romance', 'user_avg_rating', 'highly rated genre_Adventure', 'highly rated genre_Drama', 'most rated genre_Adventure']\n",
      "\n",
      "Training XGBMR...\n",
      "[0]\ttrain-mae:0.16221\tval-mae:0.15822\n",
      "[500]\ttrain-mae:0.09047\tval-mae:0.14060\n",
      "[625]\ttrain-mae:0.09045\tval-mae:0.14061\n"
     ]
    },
    {
     "name": "stderr",
     "output_type": "stream",
     "text": [
      "2025/09/20 10:07:03 WARNING mlflow.models.model: `artifact_path` is deprecated. Please use `name` instead.\n",
      "2025/09/20 10:07:03 WARNING mlflow.utils.autologging_utils: MLflow autologging encountered a warning: \"/home/phantom/miniconda3/envs/cudatorch/lib/python3.12/site-packages/mlflow/xgboost/__init__.py:169: UserWarning: [10:07:03] WARNING: /workspace/src/c_api/c_api.cc:1427: Saving model in the UBJSON format as default.  You can use file extension: `json`, `ubj` or `deprecated` to choose between formats.\"\n",
      "[INFO] - Logging artifacts.\n",
      "[INFO] - Done training.\n"
     ]
    },
    {
     "name": "stdout",
     "output_type": "stream",
     "text": [
      "Logging folder /tmp/tmp0lm3vk66\n",
      "🏃 View run brawny-grouse-692 at: http://localhost:8081/#/experiments/1/runs/26161cc8ad064fc18105ecb7a51da4ce\n",
      "🧪 View experiment at: http://localhost:8081/#/experiments/1\n"
     ]
    },
    {
     "name": "stderr",
     "output_type": "stream",
     "text": [
      "Registered model 'xgb' already exists. Creating a new version of this model...\n",
      "2025/09/20 10:07:08 INFO mlflow.store.model_registry.abstract_store: Waiting up to 300 seconds for model version to finish creation. Model name: xgb, version 7\n",
      "Created version '7' of model 'xgb'.\n"
     ]
    },
    {
     "name": "stdout",
     "output_type": "stream",
     "text": [
      "metrics {'train-mae': 0.10580228301630404, 'val-mae': 0.13744218488103954, 'stopped_iteration': 517.0, 'best_iteration': 18.0}\n",
      "Champion 'val-mae': 0.1374, Latest 'val-mae': 0.1380\n",
      "No new champion for 'xgb'\n"
     ]
    }
   ],
   "source": [
    "booster = main(ratings,\n",
    "               n_trials=1)"
   ]
  },
  {
   "cell_type": "code",
   "execution_count": 11,
   "id": "92c49323",
   "metadata": {},
   "outputs": [
    {
     "data": {
      "application/vnd.jupyter.widget-view+json": {
       "model_id": "dd7f6b9f7f9745ca8a1ea7bcbe866632",
       "version_major": 2,
       "version_minor": 0
      },
      "text/plain": [
       "Downloading artifacts:   0%|          | 0/5 [00:00<?, ?it/s]"
      ]
     },
     "metadata": {},
     "output_type": "display_data"
    },
    {
     "name": "stdout",
     "output_type": "stream",
     "text": [
      "XGB loaded on device: cuda\n",
      "Getting artifacts, run_id='26161cc8ad064fc18105ecb7a51da4ce', artifact_path='resources'\n"
     ]
    },
    {
     "name": "stderr",
     "output_type": "stream",
     "text": [
      "/home/phantom/git/n2ak/movie_recommender/backend/movie_recommender/workflow.py:114: FutureWarning: ``mlflow.tracking.client.MlflowClient.get_latest_versions`` is deprecated since 2.9.0. Model registry stages will be removed in a future major release. To learn more about the deprecation of model registry stages, see our migration guide here: https://mlflow.org/docs/latest/model-registry.html#migrating-from-stages\n",
      "  return _mlflowClient.get_latest_versions(registered_name)[0].run_id\n"
     ]
    },
    {
     "data": {
      "application/vnd.jupyter.widget-view+json": {
       "model_id": "b2edf8abd7a34411860e011e59b30297",
       "version_major": 2,
       "version_minor": 0
      },
      "text/plain": [
       "Downloading artifacts:   0%|          | 0/2 [00:00<?, ?it/s]"
      ]
     },
     "metadata": {},
     "output_type": "display_data"
    },
    {
     "name": "stderr",
     "output_type": "stream",
     "text": [
      "[INFO] - Loaded champion model, registered_name='xgb'\n"
     ]
    }
   ],
   "source": [
    "test_xgb_model()"
   ]
  }
 ],
 "metadata": {
  "kernelspec": {
   "display_name": "cudatorch",
   "language": "python",
   "name": "python3"
  },
  "language_info": {
   "codemirror_mode": {
    "name": "ipython",
    "version": 3
   },
   "file_extension": ".py",
   "mimetype": "text/x-python",
   "name": "python",
   "nbconvert_exporter": "python",
   "pygments_lexer": "ipython3",
   "version": "3.12.11"
  }
 },
 "nbformat": 4,
 "nbformat_minor": 5
}
