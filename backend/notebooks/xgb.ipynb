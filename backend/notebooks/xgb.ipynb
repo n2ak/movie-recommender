{
 "cells": [
  {
   "cell_type": "code",
   "execution_count": 8,
   "id": "34704d4d",
   "metadata": {},
   "outputs": [
    {
     "name": "stdout",
     "output_type": "stream",
     "text": [
      "The autoreload extension is already loaded. To reload it, use:\n",
      "  %reload_ext autoreload\n"
     ]
    }
   ],
   "source": [
    "%load_ext autoreload\n",
    "%autoreload 2\n",
    "\n",
    "import os,sys\n",
    "sys.path.append(os.path.abspath(\"..\"))\n",
    "sys.path.append(os.path.abspath(\"../..\"))\n",
    "sys.path.append(os.path.abspath(\"../training\"))\n",
    "import warnings\n",
    "warnings.filterwarnings(\"ignore\")"
   ]
  },
  {
   "cell_type": "code",
   "execution_count": 9,
   "id": "8cb0cdfd",
   "metadata": {},
   "outputs": [],
   "source": [
    "import os\n",
    "os.environ[\"EXP_NAME\"] = \"movie_recom\"\n",
    "os.environ[\"MAX_RATING\"] = \"5\"\n",
    "os.environ[\"MLFLOW_TRACKING_URI\"] = \"http://localhost:8081\"\n",
    "os.environ[\"EPOCH\"] = \"2\"\n",
    "\n",
    "os.environ[\"AWS_DEFAULT_REGION\"] = \"us-east-1\"\n",
    "os.environ[\"AWS_ACCESS_KEY_ID\"] = \"minio\"\n",
    "os.environ[\"AWS_SECRET_ACCESS_KEY\"] = \"minio123\"\n",
    "os.environ[\"MLFLOW_S3_ENDPOINT_URL\"] = \"http://localhost:9000\""
   ]
  },
  {
   "cell_type": "code",
   "execution_count": 10,
   "id": "1a385459",
   "metadata": {},
   "outputs": [
    {
     "name": "stderr",
     "output_type": "stream",
     "text": [
      "[DEBUG] - Available Buckets [Bucket('mlflowbucket'), Bucket('trainingbucket')]\n"
     ]
    }
   ],
   "source": [
    "from training.xgb import main, test_xgb_model\n",
    "from movie_recommender.workflow import read_parquet_from_s3, connect_minio,connect_mlflow\n",
    "\n",
    "DB_MINIO_BUCKET = \"trainingbucket\"\n",
    "connect_minio()\n",
    "connect_mlflow()"
   ]
  },
  {
   "cell_type": "code",
   "execution_count": 11,
   "id": "d7ff84d8",
   "metadata": {},
   "outputs": [],
   "source": [
    "ratings = read_parquet_from_s3(DB_MINIO_BUCKET, \"ratings.parquet\")\n",
    "movies = read_parquet_from_s3(DB_MINIO_BUCKET, \"movies.parquet\")\n",
    "ratings = ratings.merge(movies, on=\"movie_id\")\n",
    "ratings.rating *= 5"
   ]
  },
  {
   "cell_type": "code",
   "execution_count": 12,
   "id": "45cbd386",
   "metadata": {},
   "outputs": [
    {
     "name": "stderr",
     "output_type": "stream",
     "text": [
      "[INFO] - Running CV...\n",
      "[I 2025-09-22 09:47:31,237] A new study created in memory with name: no-name-37ca6c18-1d04-49b3-8833-0e65e2f2aba0\n"
     ]
    },
    {
     "data": {
      "application/vnd.jupyter.widget-view+json": {
       "model_id": "8f883e9af8e14f4e86edc5730601ca8c",
       "version_major": 2,
       "version_minor": 0
      },
      "text/plain": [
       "  0%|          | 0/1 [00:00<?, ?it/s]"
      ]
     },
     "metadata": {},
     "output_type": "display_data"
    },
    {
     "name": "stderr",
     "output_type": "stream",
     "text": [
      "[DEBUG] - Pred mean: 0.71 , std: 0.13\n",
      "[DEBUG] - Pred mean: 0.71 , std: 0.13\n",
      "[DEBUG] - Pred mean: 0.71 , std: 0.13\n",
      "[INFO] - Found best params: {'objective': 'reg:squarederror', 'device': 'cuda', 'random_state': 0, 'eval_metric': 'rmse', 'booster': 'gbtree', 'max_depth': 7, 'learning_rate': 0.20063357546237642, 'subsample': 0.9544887212624263, 'colsample_bytree': 0.5457841395515235, 'gamma': 3.748739870376525, 'lambda': 0.004309860156011425, 'alpha': 0.008046848192811441}\n"
     ]
    },
    {
     "name": "stdout",
     "output_type": "stream",
     "text": [
      "[I 2025-09-22 09:48:37,222] Trial 0 finished with value: 0.6340526938438416 and parameters: {'objective': 'reg:squarederror', 'device': 'cuda', 'random_state': 0, 'eval_metric': 'rmse', 'booster': 'gbtree', 'max_depth': 7, 'learning_rate': 0.20063357546237642, 'subsample': 0.9544887212624263, 'colsample_bytree': 0.5457841395515235, 'gamma': 3.748739870376525, 'lambda': 0.004309860156011425, 'alpha': 0.008046848192811441}. Best is trial 0 with value: 0.6340526938438416.\n",
      "[0]\ttrain-rmse:0.19618\tval-rmse:0.19773\n",
      "[530]\ttrain-rmse:0.15734\tval-rmse:0.16982\n"
     ]
    },
    {
     "name": "stderr",
     "output_type": "stream",
     "text": [
      "[INFO] - Found most impactful features: ['movie_avg_rating', 'mean_Drama', 'mean_Sci-Fi', 'mean_Thriller', 'mean_Action', 'mean_Comedy', 'mean_Fantasy', 'mean_Adventure', 'user_avg_rating']\n",
      "[INFO] - \n",
      "\n",
      "[INFO] - Training XGBMR...\n",
      "[INFO] - Run id: 62c5c84fa49f4016a7117210548d605a\n"
     ]
    },
    {
     "name": "stdout",
     "output_type": "stream",
     "text": [
      "[0]\ttrain-rmse:0.19683\ttrain-mae:0.75982\tval-rmse:0.19841\tval-mae:0.76457\n",
      "[500]\ttrain-rmse:0.15908\ttrain-mae:0.59110\tval-rmse:0.17108\tval-mae:0.63452\n",
      "[1000]\ttrain-rmse:0.15907\ttrain-mae:0.59100\tval-rmse:0.17109\tval-mae:0.63445\n",
      "[1078]\ttrain-rmse:0.15907\ttrain-mae:0.59099\tval-rmse:0.17109\tval-mae:0.63445\n"
     ]
    },
    {
     "name": "stderr",
     "output_type": "stream",
     "text": [
      "2025/09/22 09:49:14 WARNING mlflow.models.model: `artifact_path` is deprecated. Please use `name` instead.\n",
      "[INFO] - Logging artifacts.\n",
      "[DEBUG] - Logging folder %s\n",
      "[INFO] - Done training.\n"
     ]
    },
    {
     "name": "stdout",
     "output_type": "stream",
     "text": [
      "🏃 View run persistent-eel-5 at: http://localhost:8081/#/experiments/1/runs/62c5c84fa49f4016a7117210548d605a\n",
      "🧪 View experiment at: http://localhost:8081/#/experiments/1\n"
     ]
    },
    {
     "name": "stderr",
     "output_type": "stream",
     "text": [
      "Registered model 'xgb' already exists. Creating a new version of this model...\n",
      "2025/09/22 09:49:25 INFO mlflow.store.model_registry.abstract_store: Waiting up to 300 seconds for model version to finish creation. Model name: xgb, version 3\n",
      "Created version '3' of model 'xgb'.\n",
      "[DEBUG] - Champion 'val-mae': 0.6314, Latest 'val-mae': 0.6344\n",
      "[DEBUG] - No new champion for 'xgb'\n",
      "[INFO] - \n",
      "\n",
      "[INFO] - Saving plots...\n",
      "[INFO] - True  : mean 3.557, std 1.051\n",
      "[INFO] - Pred  : mean 3.557, std 0.673\n",
      "[INFO] - MAE   : 0.5905273019984898\n",
      "[INFO] - Error : mean 0.000, std 0.795\n",
      "[INFO] - Test\n",
      "[INFO] - True  : mean 3.557, std 1.049\n",
      "[INFO] - Pred  : mean 3.555, std 0.663\n",
      "[INFO] - MAE   : 0.6341939829993853\n",
      "[INFO] - Error : mean 0.002, std 0.855\n",
      "[DEBUG] - Logging folder %s\n"
     ]
    }
   ],
   "source": [
    "booster = main(ratings,n_trials=1)"
   ]
  },
  {
   "cell_type": "code",
   "execution_count": 13,
   "id": "92c49323",
   "metadata": {},
   "outputs": [
    {
     "data": {
      "application/vnd.jupyter.widget-view+json": {
       "model_id": "66a758318ec242f0afb287139731df2a",
       "version_major": 2,
       "version_minor": 0
      },
      "text/plain": [
       "Downloading artifacts:   0%|          | 0/5 [00:00<?, ?it/s]"
      ]
     },
     "metadata": {},
     "output_type": "display_data"
    },
    {
     "name": "stderr",
     "output_type": "stream",
     "text": [
      "[INFO] - XGB loaded on device: cuda\n",
      "[DEBUG] - Getting artifacts, run_id='62c5c84fa49f4016a7117210548d605a', artifact_path='resources'\n"
     ]
    },
    {
     "data": {
      "application/vnd.jupyter.widget-view+json": {
       "model_id": "025f9fb683ea49c5a7e22eb5aac82d6b",
       "version_major": 2,
       "version_minor": 0
      },
      "text/plain": [
       "Downloading artifacts:   0%|          | 0/2 [00:00<?, ?it/s]"
      ]
     },
     "metadata": {},
     "output_type": "display_data"
    },
    {
     "name": "stderr",
     "output_type": "stream",
     "text": [
      "[INFO] - Loaded champion model, registered_name='xgb'\n",
      "[INFO] - XGB model test passed successfully\n"
     ]
    }
   ],
   "source": [
    "test_xgb_model()"
   ]
  }
 ],
 "metadata": {
  "kernelspec": {
   "display_name": "cudatorch",
   "language": "python",
   "name": "python3"
  },
  "language_info": {
   "codemirror_mode": {
    "name": "ipython",
    "version": 3
   },
   "file_extension": ".py",
   "mimetype": "text/x-python",
   "name": "python",
   "nbconvert_exporter": "python",
   "pygments_lexer": "ipython3",
   "version": "3.12.11"
  }
 },
 "nbformat": 4,
 "nbformat_minor": 5
}
