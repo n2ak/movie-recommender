{
 "cells": [
  {
   "cell_type": "code",
   "execution_count": null,
   "id": "18d685f0",
   "metadata": {},
   "outputs": [],
   "source": [
    "%load_ext autoreload\n",
    "%autoreload 2\n",
    "import os,sys\n",
    "sys.path.append(os.path.abspath(\"..\"))\n",
    "sys.path.append(os.path.abspath(\"../dags\"))"
   ]
  },
  {
   "cell_type": "code",
   "execution_count": null,
   "id": "d10527da",
   "metadata": {},
   "outputs": [],
   "source": [
    "import mlflow\n",
    "import seaborn as sns\n",
    "import pandas as pd\n",
    "import matplotlib.pyplot as plt\n",
    "from movie_recommender.recommender import Recommender, Request\n",
    "from movie_recommender.utils import Timer\n",
    "\n",
    "\n",
    "Recommender.get_instance().get_model(\"xgb_cpu\");\n",
    "Recommender.get_instance().get_model(\"xgb_cuda\");\n",
    "Recommender.get_instance().get_model(\"dlrm_cpu\");\n",
    "Recommender.get_instance().get_model(\"dlrm_cuda\");"
   ]
  },
  {
   "cell_type": "code",
   "execution_count": null,
   "id": "02d2fee9",
   "metadata": {},
   "outputs": [],
   "source": [
    "def batched_vs_unbatched(nrequests, model, ax):\n",
    "    timers = {}\n",
    "\n",
    "    def req(): return Request(\n",
    "        userId=0,\n",
    "        genres=[],\n",
    "        model=model,\n",
    "        temp=0,\n",
    "        start=0,\n",
    "        count=10,\n",
    "    )\n",
    "    with Timer(\"batched\", mute=True) as t:\n",
    "        Recommender.batched([req() for i in range(nrequests)])\n",
    "        timers[\"batched\"] = {} | t\n",
    "    with Timer(\"non batched\", mute=True) as t:\n",
    "        for i in range(nrequests):\n",
    "            Recommender.batched([req()])\n",
    "        timers[\"unbatched\"] = {} | t\n",
    "\n",
    "    df = pd.DataFrame([timers[\"batched\"].values(), timers[\"unbatched\"].values()],\n",
    "                      # type: ignore\n",
    "                      columns=list(timers[\"batched\"].keys()), index=timers.keys()\n",
    "                      ).reset_index(names=\"name\")  # type: ignore\n",
    "    df2 = df.melt(value_vars=[\"simsearch\", \"Batch prepare\",\n",
    "                              \"Prediction\"], id_vars=\"name\", value_name=\"ms\")\n",
    "    sns.barplot(data=df2, x=\"variable\", y=\"ms\", hue=\"name\", ax=ax)\n",
    "    ax.set_title(model)"
   ]
  },
  {
   "cell_type": "code",
   "execution_count": null,
   "id": "9d562315",
   "metadata": {},
   "outputs": [],
   "source": [
    "_, axis = plt.subplots(1, 4, figsize=(16, 4), sharey=True)\n",
    "batched_vs_unbatched(200, \"xgb_cpu\", ax=axis[0])\n",
    "batched_vs_unbatched(200, \"dlrm_cpu\", ax=axis[1])\n",
    "batched_vs_unbatched(200, \"xgb_cuda\", ax=axis[2])\n",
    "batched_vs_unbatched(200, \"dlrm_cuda\", ax=axis[3])\n",
    "plt.tight_layout()"
   ]
  }
 ],
 "metadata": {
  "kernelspec": {
   "display_name": "cudatorch",
   "language": "python",
   "name": "python3"
  },
  "language_info": {
   "codemirror_mode": {
    "name": "ipython",
    "version": 3
   },
   "file_extension": ".py",
   "mimetype": "text/x-python",
   "name": "python",
   "nbconvert_exporter": "python",
   "pygments_lexer": "ipython3",
   "version": "3.10.18"
  }
 },
 "nbformat": 4,
 "nbformat_minor": 5
}
