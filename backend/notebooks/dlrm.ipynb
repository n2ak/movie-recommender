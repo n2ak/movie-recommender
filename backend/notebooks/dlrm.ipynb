{
  "cells": [
    {
      "cell_type": "code",
      "execution_count": null,
      "metadata": {},
      "outputs": [],
      "source": [
        "%load_ext autoreload\n",
        "%autoreload 2\n",
        "\n",
        "import os,sys\n",
        "sys.path.append(os.path.abspath(\"..\"))\n",
        "sys.path.append(os.path.abspath(\"../..\"))\n",
        "sys.path.append(os.path.abspath(\"../training\"))"
      ]
    },
    {
      "cell_type": "code",
      "execution_count": null,
      "metadata": {},
      "outputs": [],
      "source": [
        "import os\n",
        "os.environ[\"EXP_NAME\"] = \"movie_recom\"\n",
        "os.environ[\"MAX_RATING\"] = \"5\"\n",
        "os.environ[\"MLFLOW_TRACKING_URI\"] = \"http://localhost:8081\"\n",
        "os.environ[\"EPOCH\"] = \"2\"\n",
        "\n",
        "os.environ[\"AWS_DEFAULT_REGION\"] = \"us-east-1\"\n",
        "os.environ[\"AWS_ACCESS_KEY_ID\"] = \"minio\"\n",
        "os.environ[\"AWS_SECRET_ACCESS_KEY\"] = \"minio123\"\n",
        "os.environ[\"MLFLOW_S3_ENDPOINT_URL\"] = \"http://localhost:9000\""
      ]
    },
    {
      "cell_type": "code",
      "execution_count": null,
      "metadata": {},
      "outputs": [],
      "source": [
        "from workflow.dags.extract import extract_data,connect_minio\n",
        "from workflow.dags.transform import process_data\n",
        "from training.dlrm import train_dlrm, download_parquet, test_dlrm_model"
      ]
    },
    {
      "cell_type": "code",
      "execution_count": null,
      "metadata": {},
      "outputs": [],
      "source": [
        "extract_data()\n",
        "process_data(\"dlrm\")"
      ]
    },
    {
      "cell_type": "code",
      "execution_count": null,
      "metadata": {},
      "outputs": [],
      "source": [
        "train, test = download_parquet(os.environ[\"DB_MINIO_BUCKET\"], \"dlrm_train\", \"dlrm_test\")"
      ]
    },
    {
      "cell_type": "code",
      "execution_count": null,
      "metadata": {},
      "outputs": [],
      "source": [
        "train.head(1)"
      ]
    },
    {
      "cell_type": "code",
      "execution_count": null,
      "metadata": {},
      "outputs": [],
      "source": [
        "train_dlrm(\n",
        "    train,\n",
        "    test,\n",
        "    2,\n",
        "    \"movie_recom\",\n",
        "    \"http://localhost:8081\"\n",
        ")"
      ]
    },
    {
      "cell_type": "code",
      "execution_count": null,
      "metadata": {},
      "outputs": [],
      "source": [
        "test_dlrm_model()"
      ]
    }
  ],
  "metadata": {
    "kernelspec": {
      "display_name": "cudatorch",
      "language": "python",
      "name": "python3"
    },
    "language_info": {
      "codemirror_mode": {
        "name": "ipython",
        "version": 3
      },
      "file_extension": ".py",
      "mimetype": "text/x-python",
      "name": "python",
      "nbconvert_exporter": "python",
      "pygments_lexer": "ipython3",
      "version": "3.12.11"
    }
  },
  "nbformat": 4,
  "nbformat_minor": 2
}
