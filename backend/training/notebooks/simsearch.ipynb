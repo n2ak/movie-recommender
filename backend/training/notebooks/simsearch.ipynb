{
  "cells": [
    {
      "cell_type": "code",
      "execution_count": null,
      "metadata": {},
      "outputs": [],
      "source": [
        "%load_ext autoreload\n",
        "%autoreload 2\n",
        "\n",
        "import os,sys\n",
        "sys.path.append(os.path.abspath(\"..\"))\n",
        "sys.path.append(os.path.abspath(\"../../..\"))\n",
        "sys.path.append(os.path.abspath(\"../..\"))\n",
        "import warnings\n",
        "warnings.filterwarnings(\"ignore\")"
      ]
    },
    {
      "cell_type": "code",
      "execution_count": null,
      "metadata": {},
      "outputs": [],
      "source": [
        "!pip install -q -r ../../requirements.txt"
      ]
    },
    {
      "cell_type": "code",
      "execution_count": null,
      "metadata": {},
      "outputs": [],
      "source": [
        "import os\n",
        "import dotenv\n",
        "dotenv.load_dotenv(\"../../.env\")\n",
        "DB_MINIO_BUCKET = os.environ[\"DB_MINIO_BUCKET\"]"
      ]
    },
    {
      "cell_type": "code",
      "execution_count": null,
      "metadata": {},
      "outputs": [],
      "source": [
        "from workflow.dags.extract import extract_data\n",
        "from training.similarity_search.simsearch import train_simsearch, test_simsearch,process_data_for_simsearch\n",
        "from movie_recommender.common.workflow import upload_folder_to_s3, connect_storage_client, download_parquet_from_s3, connect_mlflow"
      ]
    },
    {
      "cell_type": "code",
      "execution_count": null,
      "metadata": {},
      "outputs": [],
      "source": [
        "connect_storage_client()\n",
        "connect_mlflow()"
      ]
    },
    {
      "cell_type": "code",
      "execution_count": null,
      "metadata": {},
      "outputs": [],
      "source": [
        "dir = extract_data(os.environ[\"DATABASE_URL\"])\n",
        "upload_folder_to_s3(dir, DB_MINIO_BUCKET)"
      ]
    },
    {
      "cell_type": "code",
      "execution_count": null,
      "metadata": {},
      "outputs": [],
      "source": [
        "ratings,movies = download_parquet_from_s3(DB_MINIO_BUCKET, \"ratings\", \"movies\")\n",
        "train = process_data_for_simsearch(ratings,movies,5)"
      ]
    },
    {
      "cell_type": "code",
      "execution_count": null,
      "metadata": {},
      "outputs": [],
      "source": [
        "train_simsearch(train)"
      ]
    },
    {
      "cell_type": "code",
      "execution_count": null,
      "metadata": {},
      "outputs": [],
      "source": [
        "test_simsearch()"
      ]
    }
  ],
  "metadata": {
    "kernelspec": {
      "display_name": "cudatorch",
      "language": "python",
      "name": "python3"
    },
    "language_info": {
      "codemirror_mode": {
        "name": "ipython",
        "version": 3
      },
      "file_extension": ".py",
      "mimetype": "text/x-python",
      "name": "python",
      "nbconvert_exporter": "python",
      "pygments_lexer": "ipython3",
      "version": "3.12.11"
    }
  },
  "nbformat": 4,
  "nbformat_minor": 2
}
