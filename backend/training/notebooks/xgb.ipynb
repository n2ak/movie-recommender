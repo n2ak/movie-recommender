{
 "cells": [
  {
   "cell_type": "code",
   "execution_count": 1,
   "id": "34704d4d",
   "metadata": {},
   "outputs": [],
   "source": [
    "%load_ext autoreload\n",
    "%autoreload 2\n",
    "\n",
    "import os,sys\n",
    "sys.path.append(os.path.abspath(\"..\"))\n",
    "sys.path.append(os.path.abspath(\"../..\"))\n",
    "sys.path.append(os.path.abspath(\"../training\"))\n",
    "import warnings\n",
    "warnings.filterwarnings(\"ignore\")"
   ]
  },
  {
   "cell_type": "code",
   "execution_count": 2,
   "id": "8cb0cdfd",
   "metadata": {},
   "outputs": [],
   "source": [
    "import os\n",
    "os.environ[\"EXP_NAME\"] = \"movie_recom\"\n",
    "os.environ[\"MAX_RATING\"] = \"5\"\n",
    "os.environ[\"MLFLOW_TRACKING_URI\"] = \"http://localhost:8081\"\n",
    "os.environ[\"EPOCH\"] = \"2\"\n",
    "\n",
    "os.environ[\"AWS_DEFAULT_REGION\"] = \"us-east-1\"\n",
    "os.environ[\"AWS_ACCESS_KEY_ID\"] = \"minio\"\n",
    "os.environ[\"AWS_SECRET_ACCESS_KEY\"] = \"minio123\"\n",
    "os.environ[\"MLFLOW_S3_ENDPOINT_URL\"] = \"http://localhost:9000\""
   ]
  },
  {
   "cell_type": "code",
   "execution_count": null,
   "id": "1a385459",
   "metadata": {},
   "outputs": [
    {
     "name": "stderr",
     "output_type": "stream",
     "text": [
      "[DEBUG] - Secure False\n",
      "[DEBUG] - endpoint http://localhost:9000\n",
      "[INFO] - Connected to minio on: http://localhost:9000\n",
      "[DEBUG] - Available Buckets [Bucket('mlflowbucket'), Bucket('trainingbucket')]\n",
      "[INFO] - Connected to mlflow on: http://localhost:8081\n"
     ]
    }
   ],
   "source": [
    "from training.xgb import main, test_xgb_model\n",
    "from movie_recommender.workflow import read_parquet_from_s3, connect_minio,connect_mlflow\n",
    "\n",
    "DB_MINIO_BUCKET = \"trainingbucket\"\n",
    "connect_minio()\n",
    "connect_mlflow()"
   ]
  },
  {
   "cell_type": "code",
   "execution_count": 4,
   "id": "d7ff84d8",
   "metadata": {},
   "outputs": [],
   "source": [
    "ratings = read_parquet_from_s3(DB_MINIO_BUCKET, \"ratings.parquet\")\n",
    "movies = read_parquet_from_s3(DB_MINIO_BUCKET, \"movies.parquet\")\n",
    "ratings = ratings.merge(movies, on=\"movie_id\")\n",
    "ratings.rating *= 5"
   ]
  },
  {
   "cell_type": "code",
   "execution_count": 5,
   "id": "45cbd386",
   "metadata": {},
   "outputs": [
    {
     "name": "stderr",
     "output_type": "stream",
     "text": [
      "[INFO] - Running CV...\n",
      "[I 2025-09-22 11:35:27,285] A new study created in memory with name: no-name-2c18af48-5e02-4bf7-9d5d-8a6ef31864f5\n"
     ]
    },
    {
     "data": {
      "application/vnd.jupyter.widget-view+json": {
       "model_id": "66b9bb9d54984d7b9406b14ff8ec148f",
       "version_major": 2,
       "version_minor": 0
      },
      "text/plain": [
       "  0%|          | 0/1 [00:00<?, ?it/s]"
      ]
     },
     "metadata": {},
     "output_type": "display_data"
    },
    {
     "name": "stderr",
     "output_type": "stream",
     "text": [
      "[DEBUG] - Pred mean: 0.71 , std: 0.13\n",
      "[DEBUG] - Pred mean: 0.71 , std: 0.13\n",
      "[DEBUG] - Pred mean: 0.71 , std: 0.13\n",
      "[INFO] - Found best params: {'objective': 'reg:squarederror', 'device': 'cuda', 'random_state': 0, 'eval_metric': 'rmse', 'booster': 'gbtree', 'max_depth': 5, 'learning_rate': 0.03276168425168626, 'subsample': 0.9600231685831186, 'colsample_bytree': 0.8523568011650867, 'gamma': 2.545352124976935, 'lambda': 9.804641899073559, 'alpha': 0.027754441871769862}\n"
     ]
    },
    {
     "name": "stdout",
     "output_type": "stream",
     "text": [
      "[I 2025-09-22 11:36:14,322] Trial 0 finished with value: 0.6318514347076416 and parameters: {'objective': 'reg:squarederror', 'device': 'cuda', 'random_state': 0, 'eval_metric': 'rmse', 'booster': 'gbtree', 'max_depth': 5, 'learning_rate': 0.03276168425168626, 'subsample': 0.9600231685831186, 'colsample_bytree': 0.8523568011650867, 'gamma': 2.545352124976935, 'lambda': 9.804641899073559, 'alpha': 0.027754441871769862}. Best is trial 0 with value: 0.6318514347076416.\n",
      "[0]\ttrain-rmse:0.20778\tval-rmse:0.20769\n",
      "[687]\ttrain-rmse:0.15700\tval-rmse:0.16974\n"
     ]
    },
    {
     "name": "stderr",
     "output_type": "stream",
     "text": [
      "[INFO] - Found most impactful features: ['movie_avg_rating', 'mean_Adventure', 'mean_Thriller', 'mean_Drama', 'mean_Comedy', 'user_avg_rating']\n",
      "[INFO] - \n",
      "\n",
      "[INFO] - Training XGBMR...\n",
      "[INFO] - Run id: 4fb37470b6c0491dbed256fc6a725e57\n"
     ]
    },
    {
     "name": "stdout",
     "output_type": "stream",
     "text": [
      "[0]\ttrain-rmse:0.20739\ttrain-mae:0.79966\tval-rmse:0.20736\tval-mae:0.79830\n",
      "[500]\ttrain-rmse:0.15838\ttrain-mae:0.58702\tval-rmse:0.17060\tval-mae:0.63087\n",
      "[917]\ttrain-rmse:0.15838\ttrain-mae:0.58703\tval-rmse:0.17060\tval-mae:0.63088\n"
     ]
    },
    {
     "name": "stderr",
     "output_type": "stream",
     "text": [
      "2025/09/22 11:36:45 WARNING mlflow.models.model: `artifact_path` is deprecated. Please use `name` instead.\n",
      "[INFO] - Logging artifacts.\n",
      "[DEBUG] - Logging folder /tmp/tmp04qxrjat\n",
      "[INFO] - Done training.\n"
     ]
    },
    {
     "name": "stdout",
     "output_type": "stream",
     "text": [
      "🏃 View run xgb_2025_09_22_11h_36m_31s at: http://localhost:8081/#/experiments/1/runs/4fb37470b6c0491dbed256fc6a725e57\n",
      "🧪 View experiment at: http://localhost:8081/#/experiments/1\n"
     ]
    },
    {
     "name": "stderr",
     "output_type": "stream",
     "text": [
      "Registered model 'xgb' already exists. Creating a new version of this model...\n",
      "2025/09/22 11:36:55 INFO mlflow.store.model_registry.abstract_store: Waiting up to 300 seconds for model version to finish creation. Model name: xgb, version 4\n",
      "Created version '4' of model 'xgb'.\n",
      "[DEBUG] - Champion 'val-mae': 0.6314, Latest 'val-mae': 0.6309\n",
      "[DEBUG] - Promoted version='4' of registered_name='xgb' to champion!\n",
      "[DEBUG] - 'xgb' has new champion\n",
      "[INFO] - \n",
      "\n",
      "[INFO] - Saving plots...\n",
      "[INFO] - True  : mean 3.557, std 1.051\n",
      "[INFO] - Pred  : mean 3.557, std 0.671\n",
      "[INFO] - MAE   : 0.5870039341768053\n",
      "[INFO] - Error : mean 0.000, std 0.792\n",
      "[INFO] - Test\n",
      "[INFO] - True  : mean 3.557, std 1.049\n",
      "[INFO] - Pred  : mean 3.557, std 0.663\n",
      "[INFO] - MAE   : 0.6308777166141769\n",
      "[INFO] - Error : mean 0.000, std 0.853\n",
      "[DEBUG] - Logging folder /tmp/tmp8j0p0cut\n"
     ]
    }
   ],
   "source": [
    "booster = main(ratings,n_trials=1)"
   ]
  },
  {
   "cell_type": "code",
   "execution_count": 6,
   "id": "92c49323",
   "metadata": {},
   "outputs": [
    {
     "data": {
      "application/vnd.jupyter.widget-view+json": {
       "model_id": "645206a0b4ff471f9d12f9e36f7912cf",
       "version_major": 2,
       "version_minor": 0
      },
      "text/plain": [
       "Downloading artifacts:   0%|          | 0/5 [00:00<?, ?it/s]"
      ]
     },
     "metadata": {},
     "output_type": "display_data"
    },
    {
     "name": "stderr",
     "output_type": "stream",
     "text": [
      "[INFO] - XGB loaded on device: cuda\n",
      "[DEBUG] - Getting artifacts, run_id='4fb37470b6c0491dbed256fc6a725e57', artifact_path='resources'\n"
     ]
    },
    {
     "data": {
      "application/vnd.jupyter.widget-view+json": {
       "model_id": "aacd78346bb94004b6086bb9ff27cea2",
       "version_major": 2,
       "version_minor": 0
      },
      "text/plain": [
       "Downloading artifacts:   0%|          | 0/2 [00:00<?, ?it/s]"
      ]
     },
     "metadata": {},
     "output_type": "display_data"
    },
    {
     "name": "stderr",
     "output_type": "stream",
     "text": [
      "[INFO] - Loaded champion model, registered_name='xgb'\n",
      "[INFO] - XGB model test passed successfully\n"
     ]
    }
   ],
   "source": [
    "test_xgb_model()"
   ]
  }
 ],
 "metadata": {
  "kernelspec": {
   "display_name": "cudatorch",
   "language": "python",
   "name": "python3"
  },
  "language_info": {
   "codemirror_mode": {
    "name": "ipython",
    "version": 3
   },
   "file_extension": ".py",
   "mimetype": "text/x-python",
   "name": "python",
   "nbconvert_exporter": "python",
   "pygments_lexer": "ipython3",
   "version": "3.12.11"
  }
 },
 "nbformat": 4,
 "nbformat_minor": 5
}
