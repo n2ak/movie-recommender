{
 "cells": [
  {
   "cell_type": "code",
   "execution_count": null,
   "id": "34704d4d",
   "metadata": {},
   "outputs": [],
   "source": [
    "%load_ext autoreload\n",
    "%autoreload 2\n",
    "\n",
    "import os,sys\n",
    "sys.path.append(os.path.abspath(\"..\"))\n",
    "sys.path.append(os.path.abspath(\"../..\"))\n",
    "sys.path.append(os.path.abspath(\"../training\"))\n",
    "import warnings\n",
    "warnings.filterwarnings(\"ignore\")"
   ]
  },
  {
   "cell_type": "code",
   "execution_count": null,
   "id": "8cb0cdfd",
   "metadata": {},
   "outputs": [],
   "source": [
    "import os\n",
    "os.environ[\"EXP_NAME\"] = \"movie_recom\"\n",
    "os.environ[\"MAX_RATING\"] = \"5\"\n",
    "os.environ[\"MLFLOW_TRACKING_URI\"] = \"http://localhost:8081\"\n",
    "os.environ[\"EPOCH\"] = \"2\"\n",
    "\n",
    "os.environ[\"AWS_DEFAULT_REGION\"] = \"us-east-1\"\n",
    "os.environ[\"AWS_ACCESS_KEY_ID\"] = \"minio\"\n",
    "os.environ[\"AWS_SECRET_ACCESS_KEY\"] = \"minio123\"\n",
    "os.environ[\"MLFLOW_S3_ENDPOINT_URL\"] = \"http://localhost:9000\""
   ]
  },
  {
   "cell_type": "code",
   "execution_count": null,
   "id": "1a385459",
   "metadata": {},
   "outputs": [],
   "source": [
    "from training.xgb import main, test_xgb_model\n",
    "from movie_recommender.workflow import read_parquet_from_s3, connect_minio,connect_mlflow\n",
    "\n",
    "DB_MINIO_BUCKET = \"trainingbucket\"\n",
    "connect_minio()\n",
    "connect_mlflow()"
   ]
  },
  {
   "cell_type": "code",
   "execution_count": null,
   "id": "d7ff84d8",
   "metadata": {},
   "outputs": [],
   "source": [
    "ratings = read_parquet_from_s3(DB_MINIO_BUCKET, \"ratings.parquet\")\n",
    "movies = read_parquet_from_s3(DB_MINIO_BUCKET, \"movies.parquet\")\n",
    "ratings = ratings.merge(movies, on=\"movie_id\")\n",
    "ratings.rating *= 5"
   ]
  },
  {
   "cell_type": "code",
   "execution_count": null,
   "id": "45cbd386",
   "metadata": {},
   "outputs": [],
   "source": [
    "booster = main(ratings,n_trials=1)"
   ]
  },
  {
   "cell_type": "code",
   "execution_count": null,
   "id": "92c49323",
   "metadata": {},
   "outputs": [],
   "source": [
    "test_xgb_model()"
   ]
  }
 ],
 "metadata": {
  "kernelspec": {
   "display_name": "cudatorch",
   "language": "python",
   "name": "python3"
  },
  "language_info": {
   "codemirror_mode": {
    "name": "ipython",
    "version": 3
   },
   "file_extension": ".py",
   "mimetype": "text/x-python",
   "name": "python",
   "nbconvert_exporter": "python",
   "pygments_lexer": "ipython3",
   "version": "3.12.11"
  }
 },
 "nbformat": 4,
 "nbformat_minor": 5
}
