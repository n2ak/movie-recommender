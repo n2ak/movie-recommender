{
 "cells": [
  {
   "cell_type": "code",
   "execution_count": null,
   "metadata": {
    "tags": []
   },
   "outputs": [],
   "source": [
    "!pip install -q --upgrade torch torchvision torchaudio"
   ]
  },
  {
   "cell_type": "code",
   "execution_count": null,
   "metadata": {
    "tags": []
   },
   "outputs": [],
   "source": [
    "%load_ext autoreload\n",
    "%autoreload 2\n",
    "\n",
    "import os,sys\n",
    "sys.path.append(os.path.abspath(\"..\"))\n",
    "sys.path.append(os.path.abspath(\"../../..\"))\n",
    "sys.path.append(os.path.abspath(\"../..\"))\n",
    "import warnings\n",
    "warnings.filterwarnings(\"ignore\")"
   ]
  },
  {
   "cell_type": "code",
   "execution_count": null,
   "metadata": {
    "tags": []
   },
   "outputs": [],
   "source": [
    "!pip install -q -r ../../requirements.txt\n",
    "!pip install -q lightning==2.5.0"
   ]
  },
  {
   "cell_type": "code",
   "execution_count": null,
   "metadata": {
    "tags": []
   },
   "outputs": [],
   "source": [
    "import os\n",
    "import dotenv\n",
    "dotenv.load_dotenv(\"../../.env\")\n",
    "DB_MINIO_BUCKET = os.environ[\"DB_MINIO_BUCKET\"]"
   ]
  },
  {
   "cell_type": "code",
   "execution_count": null,
   "metadata": {
    "tags": []
   },
   "outputs": [],
   "source": [
    "from workflow.dags.extract import extract_data\n",
    "from training.dlrm.dlrm import train_dlrm\n",
    "from movie_recommender.common.workflow import StorageClient\n",
    "from training.data import preprocess_data"
   ]
  },
  {
   "cell_type": "code",
   "execution_count": null,
   "metadata": {
    "tags": []
   },
   "outputs": [],
   "source": [
    "dir = extract_data(os.environ[\"DATABASE_URL\"])\n",
    "StorageClient.get_instance().upload_folder_to_bucket(dir, DB_MINIO_BUCKET)"
   ]
  },
  {
   "cell_type": "code",
   "execution_count": null,
   "metadata": {
    "tags": []
   },
   "outputs": [],
   "source": [
    "ratings, movies = StorageClient.get_instance().download_parquet_from_bucket(\n",
    "    DB_MINIO_BUCKET, \"ratings\", \"movies\")\n",
    "train, test = preprocess_data(ratings,movies, max_rating=5, train_size=.9)"
   ]
  },
  {
   "cell_type": "code",
   "execution_count": null,
   "metadata": {},
   "outputs": [],
   "source": [
    "import pandas as pd\n",
    "from movie_recommender.common.utils import user_cols, movie_cols\n",
    "\n",
    "\n",
    "def split_(df: pd.DataFrame):\n",
    "    movies = df[movie_cols(df)].drop_duplicates(\"movie_id\").set_index(\"movie_id\")\n",
    "    users = df[user_cols(df)].drop_duplicates(\"user_id\").set_index(\"user_id\")\n",
    "    return users, movies\n",
    "\n",
    "\n",
    "users_features, movies_features = split_(pd.concat([train, test], axis=0))\n",
    "StorageClient.get_instance().upload_parquet_to_bucket(\n",
    "    DB_MINIO_BUCKET,\n",
    "    users_features=users_features,\n",
    "    movies_features=movies_features,\n",
    ")"
   ]
  },
  {
   "cell_type": "code",
   "execution_count": null,
   "metadata": {
    "tags": []
   },
   "outputs": [],
   "source": [
    "train.head(1)"
   ]
  },
  {
   "cell_type": "code",
   "execution_count": null,
   "metadata": {
    "tags": []
   },
   "outputs": [],
   "source": [
    "train_dlrm(\n",
    "    train,\n",
    "    test,\n",
    "    int(os.environ[\"EPOCH\"]),\n",
    "    \"movie_recom\",\n",
    "    batch_size=64*4*2\n",
    ")"
   ]
  },
  {
   "cell_type": "code",
   "execution_count": null,
   "metadata": {},
   "outputs": [],
   "source": [
    "# test_dlrm_model()"
   ]
  }
 ],
 "metadata": {
  "environment": {
   "kernel": "conda-env-pytorch-pytorch",
   "name": "workbench-notebooks.m134",
   "type": "gcloud",
   "uri": "us-docker.pkg.dev/deeplearning-platform-release/gcr.io/workbench-notebooks:m134"
  },
  "kernelspec": {
   "display_name": "PyTorch 1-13 (Local)",
   "language": "python",
   "name": "conda-env-pytorch-pytorch"
  },
  "language_info": {
   "codemirror_mode": {
    "name": "ipython",
    "version": 3
   },
   "file_extension": ".py",
   "mimetype": "text/x-python",
   "name": "python",
   "nbconvert_exporter": "python",
   "pygments_lexer": "ipython3",
   "version": "3.10.18"
  }
 },
 "nbformat": 4,
 "nbformat_minor": 4
}
